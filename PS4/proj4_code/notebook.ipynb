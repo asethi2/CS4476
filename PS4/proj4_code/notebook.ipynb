{
 "cells": [
  {
   "cell_type": "markdown",
   "metadata": {
    "colab_type": "text",
    "id": "HwGPlcXi22Ea"
   },
   "source": [
    "# Hough Transform\n",
    "\n",
    "The Hough transform is a feature extraction technique used in image analysis, computer vision, and digital image processing. The purpose of the technique is to find imperfect instances of objects within a certain class of shapes by a voting procedure. This voting procedure is carried out in a parameter space, from which object candidates are obtained as local maxima in a so-called accumulator space that is explicitly constructed by the algorithm for computing the Hough transform.\n",
    "\n",
    "![alt text](ideal.jfif \"Title\")\n",
    "\n",
    "Source: Wikipedia \n",
    "Image source: Google Images"
   ]
  },
  {
   "cell_type": "markdown",
   "metadata": {},
   "source": [
    "## Submission\n",
    "\n",
    "You can code directly in the notebook - no more switching between tabs (Thank us later) \n",
    "\n",
    "All submissions will be via Gradescope. If you're completing this assignment in Jupyter Notebook, you must run the `notebook2script.py` file to export your work to a python file. To generate your submission file, run the command \n",
    "\n",
    "`python notebook2script.py submission`\n",
    "\n",
    "and your file will be created under the `submission` directory.\n",
    "\n",
    "PLEASE DON'T REMOVE THE #export FROM ANY CELL"
   ]
  },
  {
   "cell_type": "markdown",
   "metadata": {},
   "source": [
    "# Setup\n",
    "\n",
    "Use the cell below to load the required libraries (You are not allowed to use anything other than cv2 and numpy)"
   ]
  },
  {
   "cell_type": "code",
   "execution_count": 1,
   "metadata": {},
   "outputs": [
    {
     "name": "stdout",
     "output_type": "stream",
     "text": [
      "Running on Linux/OS X system\n"
     ]
    }
   ],
   "source": [
    "#export\n",
    "import cv2 #Only to be used for Canny Edge Detector\n",
    "import numpy as np\n",
    "from scipy import stats\n",
    "import test_simple as tests\n",
    "import sys\n",
    "np.set_printoptions(threshold=sys.maxsize)\n",
    "Checker = tests.PS02Test()"
   ]
  },
  {
   "cell_type": "markdown",
   "metadata": {},
   "source": [
    "# Part 1: Traffic Light [15 points]"
   ]
  },
  {
   "cell_type": "code",
   "execution_count": 129,
   "metadata": {
    "colab": {},
    "colab_type": "code",
    "id": "d9hV8TsJ08xo"
   },
   "outputs": [],
   "source": [
    "#export\n",
    "def traffic_light_detection(img_in, radii_range):\n",
    "    \"\"\"Finds the coordinates of a traffic light image given a radii\n",
    "    range.\n",
    "    Use the radii range to find the circles in the traffic light and\n",
    "    identify which of them represents the yellow light.\n",
    "    Analyze the states of all three lights and determine whether the\n",
    "    traffic light is red, yellow, or green. This will be referred to\n",
    "    as the 'state'.\n",
    "    It is recommended you use Hough transform to find these circles in\n",
    "    the image.\n",
    "    The input image may be just the traffic light with a white\n",
    "    background or a larger image of a scene containing a traffic\n",
    "    light.\n",
    "    Args:\n",
    "        img_in (numpy.array BGR): image containing a traffic light.\n",
    "        radii_range (list): range of radii values to search for.\n",
    "    Returns:\n",
    "        tuple: 2-element tuple containing:\n",
    "        coordinates (tuple): traffic light center using the (x, y)\n",
    "                             convention.\n",
    "        state (str): traffic light state. A value in {'red', 'yellow',\n",
    "                     'green'}\n",
    "        Numpy array: Height x Width matrix of Hough accumulator array  (Height and width from the image)\n",
    "    \"\"\"\n",
    "    threshold = 8.1\n",
    "    region = 15\n",
    "    \n",
    "    medianImg = np.median(img_in)\n",
    "    edgeImg = cv2.Canny(img_in, int(max(0, 0.66 * medianImg)), int(min(255, 1.33 * medianImg)))\n",
    "    h, w = edgeImg.shape\n",
    "    A = np.zeros((len(radii_range), h, w))\n",
    "    B = np.zeros((h, w))\n",
    "    \n",
    "    angles = np.arange(360) * np.pi / 180\n",
    "    edges = np.argwhere(edgeImg)\n",
    "    for i, r in enumerate(radii_range):\n",
    "        c = np.zeros((2*r, 2*r))\n",
    "        cx, cy = r, r\n",
    "        for angle in angles:\n",
    "            dx = int(np.round(r*np.cos(angle)))\n",
    "            dy = int(np.round(r*np.sin(angle)))\n",
    "            c[cx + dx - 1, cy + dy - 1] = 1\n",
    "        constant = np.argwhere(c).shape[0]\n",
    "#         print(constant)\n",
    "        for ex, ey in edges:\n",
    "            for dx in range(-r, r):\n",
    "                for dy in range(-r, r):\n",
    "                    x, y = ex + dx, ey + dy\n",
    "                    if x >= 0 and x < h and y >= 0 and y < w:\n",
    "                        A[i][x][y] += c[dx + r][dy + r]\n",
    "        A[i][A[i] < threshold * constant / r] = 0\n",
    "        \n",
    "    for r, x, y in np.argwhere(A):\n",
    "        temp = A[:, x - region: x + region, y - region: y + region]\n",
    "        try:\n",
    "            i, j, k = np.unravel_index(np.argmax(temp), temp.shape)\n",
    "        except:\n",
    "            continue\n",
    "        B[x - region + j][y - region + k] = radii_range[i]\n",
    "        \n",
    "    circleCoords = np.argwhere(B)\n",
    "    cy = circleCoords[:, 0]\n",
    "    cx = circleCoords[:, 1]\n",
    "    maxv = 0\n",
    "    \n",
    "    for (x, y) in zip(cx, cy):\n",
    "        r = int(B[y][x])\n",
    "#         print(x, y, r)\n",
    "        circle = img_in[y - r: y + r, x - r: x + r, :]\n",
    "        pos = np.unravel_index(np.argmax(circle), circle.shape)\n",
    "        v = np.max(circle) * 100\n",
    "#         print(pos, v)\n",
    "        if v > maxv:\n",
    "            maxv = v\n",
    "            c = pos[2]\n",
    "            \n",
    "    status = 'red' if c == 2 else ('green' if c == 1 and maxv == 25500 else 'yellow')\n",
    "    \n",
    "    return ((cx[1], cy[1]), status), B\n",
    "    "
   ]
  },
  {
   "cell_type": "markdown",
   "metadata": {},
   "source": [
    "## Run the tests below to verify your code"
   ]
  },
  {
   "cell_type": "code",
   "execution_count": 130,
   "metadata": {},
   "outputs": [
    {
     "name": "stdout",
     "output_type": "stream",
     "text": [
      "((267, 342), 'red')\n"
     ]
    },
    {
     "data": {
      "image/png": "[encoded data removed]",
      "text/plain": [
       "<Figure size 432x288 with 2 Axes>"
      ]
     },
     "metadata": {
      "needs_background": "light"
     },
     "output_type": "display_data"
    },
    {
     "name": "stdout",
     "output_type": "stream",
     "text": [
      "UnitTest testTrafficLightBlank passed successfully!\n",
      "((267, 342), 'red')\n"
     ]
    },
    {
     "data": {
      "image/png": "[encoded data removed]",
      "text/plain": [
       "<Figure size 432x288 with 2 Axes>"
      ]
     },
     "metadata": {
      "needs_background": "light"
     },
     "output_type": "display_data"
    },
    {
     "name": "stdout",
     "output_type": "stream",
     "text": [
      "UnitTest testTrafficLightScene passed successfully!\n"
     ]
    }
   ],
   "source": [
    "##### CODE BELOW IS USED FOR RUNNING LOCAL TEST - COMMENT/UNCOMMENT TESTS WHILE DEBUGGING ######\n",
    "Checker.testTrafficLightBlank(traffic_light_detection)\n",
    "Checker.testTrafficLightScene(traffic_light_detection)\n",
    "\n",
    "#Don't worry about the color reversal in your plots\n",
    "################ END OF LOCAL TEST CODE SECTION ################################################"
   ]
  },
  {
   "cell_type": "markdown",
   "metadata": {},
   "source": [
    "# Part 2: Traffic Signs one per scene [25 points]"
   ]
  },
  {
   "cell_type": "code",
   "execution_count": 143,
   "metadata": {
    "colab": {},
    "colab_type": "code",
    "id": "pyM15RIo0_uy"
   },
   "outputs": [],
   "source": [
    "#export\n",
    "from matplotlib import pyplot as plt\n",
    "def valid_point(pt, ymax, xmax):\n",
    "    '''\n",
    "    @return True/False if pt is with bounds for an xmax by ymax image\n",
    "    '''\n",
    "    x, y = pt\n",
    "    if x <= xmax and x >= 0 and y <= ymax and y >= 0:\n",
    "        return True\n",
    "    else:\n",
    "        return False\n",
    "\n",
    "def round_tup(tup):\n",
    "    '''\n",
    "    @return closest integer for each number in a point for referencing\n",
    "    a particular pixel in an image\n",
    "    '''\n",
    "    x,y = [int(round(num)) for num in tup]\n",
    "    return (x,y)\n",
    "\n",
    "def make_line_and_point(img, theta, rho, x, y):\n",
    "    im_y_max, im_x_max = img.shape\n",
    "    m = -np.cos(theta) / np.sin(theta)\n",
    "    b = rho / np.sin(theta)\n",
    "    # possible intersections on image edges\n",
    "    left = (0, b)\n",
    "    right = (im_x_max, im_x_max * m + b)\n",
    "    top = (-b / m, 0)\n",
    "    bottom = ((im_y_max - b) / m, im_y_max)\n",
    "\n",
    "    pts = [pt for pt in [left, right, top, bottom] if valid_point(pt, im_y_max, im_x_max)]\n",
    "    if len(pts) == 2:\n",
    "        cv2.line(img, round_tup(pts[0]), round_tup(pts[1]), (255,255,255), 3)\n",
    "        cv2.circle(img, (x, y), 10, (255,255,255), 3)\n",
    "    \n",
    "def yield_sign_detection(img_in):\n",
    "    \"\"\"Finds the centroid coordinates of a yield sign in the provided\n",
    "    image.\n",
    "    Args:\n",
    "        img_in (numpy.array BGR): image containing a traffic light.\n",
    "    Returns:\n",
    "        (x,y) tuple of coordinates of the center of the yield sign.\n",
    "        Numpy array: Height x Width matrix of Hough accumulator array  (Height and width from the image)\n",
    "    \"\"\"\n",
    "    medianImg = np.median(img_in)\n",
    "    edgeImg = cv2.Canny(img_in, int(max(0, 0.66 * medianImg)), int(min(255, 1.33 * medianImg)))\n",
    "    h, w = edgeImg.shape\n",
    "    \n",
    "    theta = np.linspace(-90.0, 0.0, int(np.ceil(90.0) + 1.0))\n",
    "    theta = np.concatenate((theta, -theta[len(theta)-2::-1]))\n",
    "#     print(theta)\n",
    "    \n",
    "    D = np.sqrt((h - 1)**2 + (w - 1)**2)\n",
    "    q = np.ceil(D)\n",
    "    nrho = 2*q + 1\n",
    "    rho = np.linspace(-q, q, int(nrho))\n",
    "#     print(rho)\n",
    "    H = np.zeros((len(rho), len(theta)))\n",
    "    for rowIdx in range(h):\n",
    "        for colIdx in range(w):\n",
    "            if edgeImg[rowIdx, colIdx]:\n",
    "                for thIdx in range(len(theta)):\n",
    "                    rhoVal = colIdx*np.cos(theta[thIdx]*np.pi/180.0) + \\\n",
    "                      rowIdx*np.sin(theta[thIdx]*np.pi/180)\n",
    "                    rhoIdx = np.nonzero(np.abs(rho-rhoVal) == np.min(np.abs(rho-rhoVal)))[0]\n",
    "                    H[rhoIdx[0], thIdx] += 1\n",
    "    \n",
    "    region = 15\n",
    "    cH = H.copy()\n",
    "    for x, y in np.argwhere(H):\n",
    "        temp = H[x - region: x + region, y - region: y + region]\n",
    "        try:\n",
    "            i, j = np.unravel_index(np.argmax(temp), temp.shape)\n",
    "        except:\n",
    "            continue\n",
    "        cH[x - region + i][y - region + j] = np.max(temp)\n",
    "    H = cH\n",
    "                    \n",
    "    flat = list(set(np.hstack(H)))\n",
    "    flat_sorted = sorted(flat, key = lambda n: -n)\n",
    "    coords_sorted = [(np.argwhere(H == acc_value)) for acc_value in flat_sorted]\n",
    "    rho_theta = []\n",
    "    x_y = []\n",
    "    for coords_for_val_idx in range(0, len(coords_sorted), 1):\n",
    "        coords_for_val = coords_sorted[coords_for_val_idx]\n",
    "        for i in range(0, len(coords_for_val), 1):\n",
    "            n,m = coords_for_val[i] # n by m matrix\n",
    "            r = rho[n]\n",
    "            t = theta[m]\n",
    "            rho_theta.append([r, t])\n",
    "            x_y.append([m, n]) # just to unnest and reorder coords_sorted\n",
    "            \n",
    "#     print(rho_theta)\n",
    "#     print(x_y)\n",
    "\n",
    "    dl = set()\n",
    "    i = 0\n",
    "    while(len(dl) < 3 and i < len(rho_theta)):\n",
    "        point = rho_theta[i]\n",
    "        rho = np.abs(point[0])\n",
    "        theta = point[1] + 180 if point[1] < 0 else point[1]\n",
    "        dl.add((rho, theta))\n",
    "        i += 1\n",
    "    \n",
    "    print(dl)\n",
    "    \n",
    "    dl = list(dl)\n",
    "    rho1, theta1 = dl[0]\n",
    "    rho2, theta2 = dl[1]\n",
    "    rho3, theta3 = dl[2]\n",
    "    \n",
    "    theta1 = theta1 - 180 if theta1 > 90 else theta1\n",
    "    theta2 = theta2 - 180 if theta2 > 90 else theta2\n",
    "    theta3 = theta3 - 180 if theta3 > 90 else theta3\n",
    "    \n",
    "    theta1 *= np.pi / 180\n",
    "    theta2 *= np.pi / 180\n",
    "    theta3 *= np.pi / 180\n",
    "    \n",
    "    A = np.array([\n",
    "        [np.cos(theta1), np.sin(theta1)],\n",
    "        [np.cos(theta2), np.sin(theta2)]\n",
    "    ])\n",
    "    b = np.array([[rho1], [rho2]])\n",
    "    x0, y0 = np.linalg.solve(A, b)\n",
    "    x0, y0 = int(np.round(x0)), int(np.round(y0))\n",
    "    \n",
    "    A = np.array([\n",
    "        [np.cos(theta1), np.sin(theta1)],\n",
    "        [np.cos(theta3), np.sin(theta3)]\n",
    "    ])\n",
    "    b = np.array([[rho1], [rho3]])\n",
    "    x1, y1 = np.linalg.solve(A, b)\n",
    "    x1, y1 = int(np.round(x1)), int(np.round(y1))\n",
    "    \n",
    "    A = np.array([\n",
    "        [np.cos(theta3), np.sin(theta3)],\n",
    "        [np.cos(theta2), np.sin(theta2)]\n",
    "    ])\n",
    "    b = np.array([[rho3], [rho2]])\n",
    "    x2, y2 = np.linalg.solve(A, b)\n",
    "    x2, y2 = int(np.round(x2)), int(np.round(y2))\n",
    "    \n",
    "#     print(x0, y0)\n",
    "#     print(x1, y1)\n",
    "#     print(x2, y2)\n",
    "#     print((x0 + x1 + x2) / 3, (y0 + y1 + y2) / 3)\n",
    "    \n",
    "#     cimg = edgeImg.copy()\n",
    "#     make_line_and_point(cimg, theta1, rho1, x0, y0)\n",
    "#     make_line_and_point(cimg, theta2, rho3, x1, y1)\n",
    "#     make_line_and_point(cimg, theta3, rho3, x2, y2)\n",
    "    \n",
    "#     plt.subplot(141),plt.imshow(edgeImg)\n",
    "#     plt.title('Original Image'), plt.xticks([]), plt.yticks([])\n",
    "#     plt.subplot(142),plt.imshow(cimg)\n",
    "#     plt.title('Detected Lines'), plt.xticks([]), plt.yticks([])\n",
    "    \n",
    "#     plt.show()\n",
    "    \n",
    "    return ((x0 + x1 + x2) / 3, (y0 + y1 + y2) / 3), H"
   ]
  },
  {
   "cell_type": "code",
   "execution_count": 306,
   "metadata": {
    "colab": {},
    "colab_type": "code",
    "id": "mF_roc9E1LUX"
   },
   "outputs": [],
   "source": [
    "#export\n",
    "def stop_sign_detection(img_in):\n",
    "    \"\"\"Finds the centroid coordinates of a stop sign in the provided\n",
    "    image.\n",
    "    Args:\n",
    "        img_in (numpy.array BGR): image containing a traffic light.\n",
    "    Returns:\n",
    "        (x,y) tuple of the coordinates of the center of the stop sign.\n",
    "        Numpy array: Height x Width matrix of Hough accumulator array  (Height and width from the image)\n",
    "    \"\"\"\n",
    "    threshold = 8.1\n",
    "    region = 15\n",
    "    radii_range = [15]\n",
    "    \n",
    "    medianImg = np.median(img_in)\n",
    "    edgeImg = cv2.Canny(img_in, int(max(0, 0.66 * medianImg)), int(min(255, 1.33 * medianImg)))\n",
    "    h, w = edgeImg.shape\n",
    "    A = np.zeros((len(radii_range), h, w))\n",
    "    B = np.zeros((h, w))\n",
    "    \n",
    "    angles = np.arange(360) * np.pi / 180\n",
    "    edges = np.argwhere(edgeImg)\n",
    "    for i, r in enumerate(radii_range):\n",
    "        c = np.zeros((2*r, 2*r))\n",
    "        cx, cy = r, r\n",
    "        for angle in angles:\n",
    "            dx = int(np.round(r*np.cos(angle)))\n",
    "            dy = int(np.round(r*np.sin(angle)))\n",
    "            c[cx + dx - 1, cy + dy - 1] = 1\n",
    "        constant = np.argwhere(c).shape[0]\n",
    "#         print(constant)\n",
    "        for ex, ey in edges:\n",
    "            for dx in range(-r, r):\n",
    "                for dy in range(-r, r):\n",
    "                    x, y = ex + dx, ey + dy\n",
    "                    if x >= 0 and x < h and y >= 0 and y < w:\n",
    "                        A[i][x][y] += c[dx + r][dy + r]\n",
    "#         A[i][A[i] < threshold * constant / r] = 0\n",
    "        \n",
    "    for r, x, y in np.argwhere(A):\n",
    "        temp = A[:, x - region: x + region, y - region: y + region]\n",
    "        try:\n",
    "            i, j, k = np.unravel_index(np.argmax(temp), temp.shape)\n",
    "        except:\n",
    "            continue\n",
    "        B[x - region + j][y - region + k] = radii_range[i]\n",
    "        \n",
    "    circleCoords = np.argwhere(B)\n",
    "    cy = circleCoords[:, 0]\n",
    "    cx = circleCoords[:, 1]\n",
    "    \n",
    "    return (np.average(cx), np.average(cy)),  B\n",
    "    "
   ]
  },
  {
   "cell_type": "code",
   "execution_count": 220,
   "metadata": {
    "colab": {},
    "colab_type": "code",
    "id": "Srsc-aJX1OtA"
   },
   "outputs": [],
   "source": [
    "#export\n",
    "def warning_sign_detection(img_in):\n",
    "    \"\"\"Finds the centroid coordinates of a warning sign in the\n",
    "    provided image.\n",
    "    Args:\n",
    "        img_in (numpy.array BGR): image containing a traffic light.\n",
    "    Returns:\n",
    "        (x,y) tuple of the coordinates of the center of the sign.\n",
    "        Numpy array: Height x Width matrix of Hough accumulator array  (Height and width from the image)\n",
    "    \"\"\"\n",
    "    edgeImg = cv2.Canny(img_in, 50, 200)\n",
    "    h, w = edgeImg.shape\n",
    "    \n",
    "    theta = np.linspace(-90.0, 0.0, int(np.ceil(90.0) + 1.0))\n",
    "    theta = np.concatenate((theta, -theta[len(theta)-2::-1]))\n",
    "#     print(theta)\n",
    "    \n",
    "    D = np.sqrt((h - 1)**2 + (w - 1)**2)\n",
    "    q = np.ceil(D)\n",
    "    nrho = 2*q + 1\n",
    "    rho = np.linspace(-q, q, int(nrho))\n",
    "#     print(rho)\n",
    "    H = np.zeros((len(rho), len(theta)))\n",
    "    for rowIdx in range(h):\n",
    "        for colIdx in range(w):\n",
    "            if edgeImg[rowIdx, colIdx]:\n",
    "                for thIdx in range(len(theta)):\n",
    "                    rhoVal = colIdx*np.cos(theta[thIdx]*np.pi/180.0) + \\\n",
    "                      rowIdx*np.sin(theta[thIdx]*np.pi/180)\n",
    "                    rhoIdx = np.nonzero(np.abs(rho-rhoVal) == np.min(np.abs(rho-rhoVal)))[0]\n",
    "                    H[rhoIdx[0], thIdx] += 1\n",
    "    \n",
    "    region = 50\n",
    "    cH = np.zeros_like(H)\n",
    "    for x, y in np.argwhere(H):\n",
    "        temp = H[x - region: x + region, y - region: y + region]\n",
    "        try:\n",
    "            i, j = np.unravel_index(np.argmax(temp), temp.shape)\n",
    "        except:\n",
    "            continue\n",
    "        cH[x - region + i][y - region + j] = np.max(temp)\n",
    "    H = cH\n",
    "                    \n",
    "    flat = list(set(np.hstack(H)))\n",
    "    flat_sorted = sorted(flat, key = lambda n: -n)\n",
    "    coords_sorted = [(np.argwhere(H == acc_value)) for acc_value in flat_sorted]\n",
    "    rho_theta = []\n",
    "    x_y = []\n",
    "    for coords_for_val_idx in range(0, len(coords_sorted), 1):\n",
    "        coords_for_val = coords_sorted[coords_for_val_idx]\n",
    "        for i in range(0, len(coords_for_val), 1):\n",
    "            n,m = coords_for_val[i] # n by m matrix\n",
    "            r = rho[n]\n",
    "            t = theta[m]\n",
    "            rho_theta.append([r, t])\n",
    "            x_y.append([m, n]) # just to unnest and reorder coords_sorted\n",
    "            \n",
    "#     print(rho_theta)\n",
    "#     print(x_y)\n",
    "\n",
    "    dl = set()\n",
    "    i = 0\n",
    "    while(len(dl) < 4 and i < len(rho_theta)):\n",
    "        point = rho_theta[i]\n",
    "        rho = np.abs(point[0])\n",
    "        theta = point[1] + 180 if point[1] < 0 else point[1]\n",
    "        add = True if theta == 45 or theta == 135 else False\n",
    "        for r, _ in dl:\n",
    "            if abs(rho - r) < 10:\n",
    "                add = False\n",
    "        if add:\n",
    "            dl.add((rho, theta))\n",
    "        i += 1\n",
    "    \n",
    "    dl = sorted(dl, key = lambda t: t[1])\n",
    "    dl = list(dl)\n",
    "    dl[3] = (dl[2][0] - abs(dl[1][0] - dl[0][0]), 135)\n",
    "    print(dl)\n",
    "    inter = []\n",
    "    cx, cy = 0, 0\n",
    "    cimg = edgeImg.copy()\n",
    "    for j in range(2):\n",
    "        for i in range(2):\n",
    "            rho1, theta1 = dl[j]\n",
    "            rho2, theta2 = dl[i + 2]\n",
    "\n",
    "            theta1 = theta1 - 180 if theta1 > 90 else theta1\n",
    "            theta2 = theta2 - 180 if theta2 > 90 else theta2\n",
    "\n",
    "            theta1 *= np.pi / 180\n",
    "            theta2 *= np.pi / 180\n",
    "\n",
    "            A = np.array([\n",
    "                [np.cos(theta1), np.sin(theta1)],\n",
    "                [np.cos(theta2), np.sin(theta2)]\n",
    "            ])\n",
    "            b = np.array([[rho1], [rho2]])\n",
    "            x0, y0 = np.linalg.solve(A, b)\n",
    "            x0, y0 = int(np.round(x0)), int(np.round(y0))\n",
    "            inter.append((x0, y0))\n",
    "            cx += x0 / 4\n",
    "            cy += y0 / 4\n",
    "            make_line_and_point(cimg, theta1, rho1, x0, y0)\n",
    "\n",
    "    plt.subplot(141),plt.imshow(img_in)\n",
    "    plt.title('Original Image'), plt.xticks([]), plt.yticks([])\n",
    "    plt.subplot(142),plt.imshow(edgeImg)\n",
    "    plt.title('Edge Image'), plt.xticks([]), plt.yticks([])\n",
    "    plt.subplot(143),plt.imshow(cimg)\n",
    "    plt.title('Detected Lines'), plt.xticks([]), plt.yticks([])\n",
    "    \n",
    "    plt.show()\n",
    "    \n",
    "    return (cx, cy), H"
   ]
  },
  {
   "cell_type": "code",
   "execution_count": 296,
   "metadata": {
    "colab": {},
    "colab_type": "code",
    "id": "84thl5Qb1S3F"
   },
   "outputs": [],
   "source": [
    "#export\n",
    "def construction_sign_detection(img_in):\n",
    "    \"\"\"Finds the centroid coordinates of a construction sign in the\n",
    "    provided image.\n",
    "    Args:\n",
    "        img_in (numpy.array BGR): image containing a traffic light.\n",
    "    Returns:\n",
    "        (x,y) tuple of the coordinates of the center of the sign.\n",
    "        Numpy array: Height x Width matrix of Hough accumulator array  (Height and width from the image)\n",
    "    \"\"\"\n",
    "    edgeImg = cv2.Canny(img_in, 50, 200)\n",
    "    h, w = edgeImg.shape\n",
    "    \n",
    "    theta = np.linspace(-90.0, 0.0, int(np.ceil(90.0) + 1.0))\n",
    "    theta = np.concatenate((theta, -theta[len(theta)-2::-1]))\n",
    "#     print(theta)\n",
    "    \n",
    "    D = np.sqrt((h - 1)**2 + (w - 1)**2)\n",
    "    q = np.ceil(D)\n",
    "    nrho = 2*q + 1\n",
    "    rho = np.linspace(-q, q, int(nrho))\n",
    "#     print(rho)\n",
    "    H = np.zeros((len(rho), len(theta)))\n",
    "    for rowIdx in range(h):\n",
    "        for colIdx in range(w):\n",
    "            if edgeImg[rowIdx, colIdx]:\n",
    "                for thIdx in range(len(theta)):\n",
    "                    rhoVal = colIdx*np.cos(theta[thIdx]*np.pi/180.0) + \\\n",
    "                      rowIdx*np.sin(theta[thIdx]*np.pi/180)\n",
    "                    rhoIdx = np.nonzero(np.abs(rho-rhoVal) == np.min(np.abs(rho-rhoVal)))[0]\n",
    "                    H[rhoIdx[0], thIdx] += 1\n",
    "    \n",
    "    region = 50\n",
    "    cH = np.zeros_like(H)\n",
    "    for x, y in np.argwhere(H):\n",
    "        temp = H[x - region: x + region, y - region: y + region]\n",
    "        try:\n",
    "            i, j = np.unravel_index(np.argmax(temp), temp.shape)\n",
    "        except:\n",
    "            continue\n",
    "        cH[x - region + i][y - region + j] = np.max(temp)\n",
    "    H = cH\n",
    "                    \n",
    "    flat = list(set(np.hstack(H)))\n",
    "    flat_sorted = sorted(flat, key = lambda n: -n)\n",
    "    coords_sorted = [(np.argwhere(H == acc_value)) for acc_value in flat_sorted]\n",
    "    rho_theta = []\n",
    "    x_y = []\n",
    "    for coords_for_val_idx in range(0, len(coords_sorted), 1):\n",
    "        coords_for_val = coords_sorted[coords_for_val_idx]\n",
    "        for i in range(0, len(coords_for_val), 1):\n",
    "            n,m = coords_for_val[i] # n by m matrix\n",
    "            r = rho[n]\n",
    "            t = theta[m]\n",
    "            rho_theta.append([r, t])\n",
    "            x_y.append([m, n]) # just to unnest and reorder coords_sorted\n",
    "            \n",
    "#     print(rho_theta)\n",
    "#     print(x_y)\n",
    "\n",
    "    dl = set()\n",
    "    i = 0\n",
    "    while(len(dl) < 4 and i < len(rho_theta)):\n",
    "        point = rho_theta[i]\n",
    "        rho = np.abs(point[0])\n",
    "        theta = point[1] + 180 if point[1] < 0 else point[1]\n",
    "        add = True if theta == 45 or theta == 135 else False\n",
    "        for r, _ in dl:\n",
    "            if abs(rho - r) < 10:\n",
    "                add = False\n",
    "        if add:\n",
    "            dl.add((rho, theta))\n",
    "        i += 1\n",
    "    \n",
    "    dl = sorted(dl, key = lambda t: t[1])\n",
    "    dl = list(dl)\n",
    "    dl[3] = (dl[2][0] - abs(dl[1][0] - dl[0][0]), 135)\n",
    "    print(dl)\n",
    "    inter = []\n",
    "    cx, cy = 0, 0\n",
    "    cimg = edgeImg.copy()\n",
    "    for j in range(2):\n",
    "        for i in range(2):\n",
    "            rho1, theta1 = dl[j]\n",
    "            rho2, theta2 = dl[i + 2]\n",
    "\n",
    "            theta1 = theta1 - 180 if theta1 > 90 else theta1\n",
    "            theta2 = theta2 - 180 if theta2 > 90 else theta2\n",
    "\n",
    "            theta1 *= np.pi / 180\n",
    "            theta2 *= np.pi / 180\n",
    "\n",
    "            A = np.array([\n",
    "                [np.cos(theta1), np.sin(theta1)],\n",
    "                [np.cos(theta2), np.sin(theta2)]\n",
    "            ])\n",
    "            b = np.array([[rho1], [rho2]])\n",
    "            x0, y0 = np.linalg.solve(A, b)\n",
    "            x0, y0 = int(np.round(x0)), int(np.round(y0))\n",
    "            inter.append((x0, y0))\n",
    "            cx += x0 / 4\n",
    "            cy += y0 / 4\n",
    "            make_line_and_point(cimg, theta1, rho1, x0, y0)\n",
    "\n",
    "    plt.subplot(141),plt.imshow(img_in)\n",
    "    plt.title('Original Image'), plt.xticks([]), plt.yticks([])\n",
    "    plt.subplot(142),plt.imshow(edgeImg)\n",
    "    plt.title('Edge Image'), plt.xticks([]), plt.yticks([])\n",
    "    plt.subplot(143),plt.imshow(cimg)\n",
    "    plt.title('Detected Lines'), plt.xticks([]), plt.yticks([])\n",
    "    \n",
    "    plt.show()\n",
    "    \n",
    "    return (cx, cy), H"
   ]
  },
  {
   "cell_type": "code",
   "execution_count": 264,
   "metadata": {
    "colab": {},
    "colab_type": "code",
    "id": "4o02dghb1VQP"
   },
   "outputs": [],
   "source": [
    "#export\n",
    "def do_not_enter_sign_detection(img_in):\n",
    "    \"\"\"Find the centroid coordinates of a do not enter sign in the\n",
    "    provided image.\n",
    "    Args:\n",
    "        img_in (numpy.array BGR): image containing a traffic light.\n",
    "    Returns:\n",
    "        (x,y) typle of the coordinates of the center of the sign.\n",
    "        Numpy array: Height x Width matrix of Hough accumulator array  (Height and width from the image)\n",
    "    \"\"\"\n",
    "    threshold = 8.1\n",
    "    region = 15\n",
    "    radii_range = [15]\n",
    "    \n",
    "    medianImg = np.median(img_in)\n",
    "    edgeImg = cv2.Canny(img_in, int(max(0, 0.66 * medianImg)), int(min(255, 1.33 * medianImg)))\n",
    "    h, w = edgeImg.shape\n",
    "    A = np.zeros((len(radii_range), h, w))\n",
    "    B = np.zeros((h, w))\n",
    "    \n",
    "    angles = np.arange(360) * np.pi / 180\n",
    "    edges = np.argwhere(edgeImg)\n",
    "    for i, r in enumerate(radii_range):\n",
    "        c = np.zeros((2*r, 2*r))\n",
    "        cx, cy = r, r\n",
    "        for angle in angles:\n",
    "            dx = int(np.round(r*np.cos(angle)))\n",
    "            dy = int(np.round(r*np.sin(angle)))\n",
    "            c[cx + dx - 1, cy + dy - 1] = 1\n",
    "        constant = np.argwhere(c).shape[0]\n",
    "#         print(constant)\n",
    "        for ex, ey in edges:\n",
    "            for dx in range(-r, r):\n",
    "                for dy in range(-r, r):\n",
    "                    x, y = ex + dx, ey + dy\n",
    "                    if x >= 0 and x < h and y >= 0 and y < w:\n",
    "                        A[i][x][y] += c[dx + r][dy + r]\n",
    "#         A[i][A[i] < threshold * constant / r] = 0\n",
    "        \n",
    "    for r, x, y in np.argwhere(A):\n",
    "        temp = A[:, x - region: x + region, y - region: y + region]\n",
    "        try:\n",
    "            i, j, k = np.unravel_index(np.argmax(temp), temp.shape)\n",
    "        except:\n",
    "            continue\n",
    "        B[x - region + j][y - region + k] = radii_range[i]\n",
    "        \n",
    "    circleCoords = np.argwhere(B)\n",
    "#     print(circleCoords)\n",
    "    cy = circleCoords[:, 0]\n",
    "    cx = circleCoords[:, 1]\n",
    "    \n",
    "    return (np.average(cx), np.average(cy)), B"
   ]
  },
  {
   "cell_type": "markdown",
   "metadata": {},
   "source": [
    "## Run the tests below to verify your code and generate output"
   ]
  },
  {
   "cell_type": "code",
   "execution_count": 307,
   "metadata": {},
   "outputs": [
    {
     "name": "stdout",
     "output_type": "stream",
     "text": [
      "(274.0248447204969, 270.14285714285717)\n"
     ]
    },
    {
     "data": {
      "image/png": "[encoded data removed]",
      "text/plain": [
       "<Figure size 432x288 with 2 Axes>"
      ]
     },
     "metadata": {
      "needs_background": "light"
     },
     "output_type": "display_data"
    },
    {
     "name": "stdout",
     "output_type": "stream",
     "text": [
      "UnitTest testStopSignBlank passed successfully!\n",
      "[(420.0, 45.0), (352.0, 45.0), (35.0, 135.0), (-33.0, 135)]\n"
     ]
    },
    {
     "data": {
      "image/png": "[encoded data removed]",
      "text/plain": [
       "<Figure size 432x288 with 3 Axes>"
      ]
     },
     "metadata": {},
     "output_type": "display_data"
    },
    {
     "name": "stdout",
     "output_type": "stream",
     "text": [
      "(274.0, 272.0)\n"
     ]
    },
    {
     "data": {
      "image/png": "[encoded data removed]",
      "text/plain": [
       "<Figure size 432x288 with 2 Axes>"
      ]
     },
     "metadata": {
      "needs_background": "light"
     },
     "output_type": "display_data"
    },
    {
     "name": "stdout",
     "output_type": "stream",
     "text": [
      "UnitTest testWarningSignBlank passed successfully!\n",
      "[(420.0, 45.0), (352.0, 45.0), (35.0, 135.0), (-33.0, 135)]\n"
     ]
    },
    {
     "data": {
      "image/png": "[encoded data removed]",
      "text/plain": [
       "<Figure size 432x288 with 3 Axes>"
      ]
     },
     "metadata": {},
     "output_type": "display_data"
    },
    {
     "name": "stdout",
     "output_type": "stream",
     "text": [
      "(274.0, 272.0)\n"
     ]
    },
    {
     "data": {
      "image/png": "[encoded data removed]",
      "text/plain": [
       "<Figure size 432x288 with 2 Axes>"
      ]
     },
     "metadata": {
      "needs_background": "light"
     },
     "output_type": "display_data"
    },
    {
     "name": "stdout",
     "output_type": "stream",
     "text": [
      "UnitTest testConstructionSignBlank passed successfully!\n",
      "(272.24468085106383, 274.40425531914894)\n"
     ]
    },
    {
     "data": {
      "image/png": "[encoded data removed]",
      "text/plain": [
       "<Figure size 432x288 with 2 Axes>"
      ]
     },
     "metadata": {
      "needs_background": "light"
     },
     "output_type": "display_data"
    },
    {
     "name": "stdout",
     "output_type": "stream",
     "text": [
      "UnitTest testDoNotEnterSignBlank passed successfully!\n",
      "{(81.0, 150.0), (223.0, 90.0), (406.0, 30.0)}\n",
      "222 223\n",
      "281 325\n",
      "340 223\n",
      "281.0 257.0\n"
     ]
    },
    {
     "data": {
      "image/png": "[encoded data removed]",
      "text/plain": [
       "<Figure size 432x288 with 2 Axes>"
      ]
     },
     "metadata": {},
     "output_type": "display_data"
    },
    {
     "name": "stdout",
     "output_type": "stream",
     "text": [
      "(281.0, 257.0)\n"
     ]
    },
    {
     "data": {
      "image/png": "[encoded data removed]",
      "text/plain": [
       "<Figure size 432x288 with 2 Axes>"
      ]
     },
     "metadata": {
      "needs_background": "light"
     },
     "output_type": "display_data"
    },
    {
     "name": "stdout",
     "output_type": "stream",
     "text": [
      "UnitTest testYieldSignBlank passed successfully!\n"
     ]
    }
   ],
   "source": [
    "##### CODE BELOW IS USED FOR RUNNING LOCAL TEST - COMMENT/UNCOMMENT TESTS WHILE DEBUGGING ######\n",
    "Checker.testStopSignBlank(stop_sign_detection)\n",
    "Checker.testWarningSignBlank(warning_sign_detection)\n",
    "Checker.testConstructionSignBlank(construction_sign_detection)\n",
    "Checker.testDoNotEnterSignBlank(do_not_enter_sign_detection)\n",
    "Checker.testYieldSignBlank(yield_sign_detection)\n",
    "#Don't worry about the color reversal in your plots\n",
    "################ END OF LOCAL TEST CODE SECTION ################################################"
   ]
  },
  {
   "cell_type": "markdown",
   "metadata": {},
   "source": [
    "# Part 3: Multiple signs in a scene [10 points]"
   ]
  },
  {
   "cell_type": "code",
   "execution_count": null,
   "metadata": {
    "colab": {},
    "colab_type": "code",
    "id": "2isD70LA1ZD6"
   },
   "outputs": [],
   "source": [
    "#export\n",
    "def traffic_sign_detection(img_in):\n",
    "    \"\"\"Finds all traffic signs in a synthetic image.\n",
    "    The image may contain at least one of the following:\n",
    "    - traffic_light\n",
    "    - no_entry\n",
    "    - stop\n",
    "    - warning\n",
    "    - yield\n",
    "    - construction\n",
    "    Use these names for your output.\n",
    "    See the instructions document for a visual definition of each\n",
    "    sign.\n",
    "    (Hint: Use all the functions defined above)\n",
    "    Args:\n",
    "        img_in (numpy.array BGR): input image containing at least one\n",
    "                              traffic sign.\n",
    "    Returns:\n",
    "        dict: dictionary containing only the signs present in the\n",
    "              image along with their respective centroid coordinates\n",
    "              as tuples.\n",
    "              For example: {'stop': (1, 3), 'yield': (4, 11)}\n",
    "              These are just example values and may not represent a\n",
    "              valid scene.\n",
    "    \"\"\"\n",
    "    "
   ]
  },
  {
   "cell_type": "markdown",
   "metadata": {},
   "source": [
    "## Run the tests below to verify your code and generate output"
   ]
  },
  {
   "cell_type": "code",
   "execution_count": null,
   "metadata": {},
   "outputs": [],
   "source": [
    "##### CODE BELOW IS USED FOR RUNNING LOCAL TEST - COMMENT/UNCOMMENT TESTS WHILE DEBUGGING ######\n",
    "Checker.testTrafficSignScene(traffic_sign_detection)\n",
    "#Don't worry about the color reversal in your plots\n",
    "################ END OF LOCAL TEST CODE SECTION ################################################"
   ]
  },
  {
   "cell_type": "markdown",
   "metadata": {},
   "source": [
    "# Part 4: Extra Credit for CS 4476/ Regular section for CS 6476 [20 points]\n",
    "\n",
    "Let's move on to the real world because you are not in a simulation. Don't believe Elon Musk."
   ]
  },
  {
   "cell_type": "code",
   "execution_count": 25,
   "metadata": {},
   "outputs": [],
   "source": [
    "#export\n",
    "def detectCircles(im, radius, useGradient = False):\n",
    "    \"\"\"\n",
    "    Args:\n",
    "        im (numpy.array RGB):the input image\n",
    "        radius : specifies the radius of the circle \n",
    "        useGradient: a flag that allows the user to optionally exploit the gradient direction measured at the edgepoints.\n",
    "    (Caution: Your x,y maybe swapped)\n",
    "    Returns:\n",
    "        Numpy array: N x 2 matrix in which each row lists the (x,y) position of a detectedcircles’ center\n",
    "        Numpy array: Height x Width matrix of Hough accumulator array  (Height and width from the image)\n",
    "    \n",
    "    \"\"\"\n",
    "    threshold = 4\n",
    "    region = 50\n",
    "    radii_range = [radius]\n",
    "    \n",
    "    medianImg = np.median(im)\n",
    "    edgeImg = cv2.Canny(im, int(max(0, 0.66 * medianImg)), int(min(255, 1.33 * medianImg)))\n",
    "    h, w = edgeImg.shape\n",
    "    A = np.zeros((len(radii_range), h, w))\n",
    "    B = np.zeros((h, w))\n",
    "    \n",
    "    angles = np.arange(360) * np.pi / 180\n",
    "    edges = np.argwhere(edgeImg)\n",
    "    for i, r in enumerate(radii_range):\n",
    "#         print(r)\n",
    "        c = np.zeros((2*r, 2*r))\n",
    "        cx, cy = r, r\n",
    "        for angle in angles:\n",
    "            dx = int(np.round(r*np.cos(angle)))\n",
    "            dy = int(np.round(r*np.sin(angle)))\n",
    "            c[cx + dx - 1, cy + dy - 1] = 1\n",
    "        constant = np.argwhere(c).shape[0]\n",
    "        print(constant)\n",
    "        for ex, ey in edges:\n",
    "            for dx in range(-r, r):\n",
    "                for dy in range(-r, r):\n",
    "                    x, y = ex + dx, ey + dy\n",
    "                    if x >= 0 and x < h and y >= 0 and y < w:\n",
    "                        A[i][x][y] += c[dx + r][dy + r]\n",
    "        A[i][A[i] < threshold * constant / r] = 0\n",
    "        \n",
    "    for r, x, y in np.argwhere(A):\n",
    "        temp = A[:, x - region: x + region, y - region: y + region]\n",
    "        try:\n",
    "            i, j, k = np.unravel_index(np.argmax(temp), temp.shape)\n",
    "        except:\n",
    "            continue\n",
    "        B[x - region + j][y - region + k] = radii_range[i]\n",
    "        \n",
    "    print(A[0][74][235])\n",
    "    print(A[0][235][74])\n",
    "    flat = list(set(np.hstack(B)))\n",
    "    flat_sorted = sorted(flat, key = lambda n: -n)\n",
    "    coords_sorted = np.array([(np.argwhere(B == acc_value)) for acc_value in flat_sorted[0:10]])[0][0:10]\n",
    "    print(coords_sorted)\n",
    "    \n",
    "    \n",
    "    return coords_sorted, B"
   ]
  },
  {
   "cell_type": "markdown",
   "metadata": {},
   "source": [
    "## Run the tests below to verify your code and generate output"
   ]
  },
  {
   "cell_type": "code",
   "execution_count": 26,
   "metadata": {},
   "outputs": [
    {
     "name": "stdout",
     "output_type": "stream",
     "text": [
      "94\n",
      "0.0\n",
      "0.0\n",
      "[[137 301]\n",
      " [139 352]\n",
      " [142 288]\n",
      " [143 329]\n",
      " [150 363]\n",
      " [184 242]\n",
      " [186 245]\n",
      " [203 373]\n",
      " [205 259]\n",
      " [227 385]]\n",
      "(10, 2)\n"
     ]
    },
    {
     "ename": "AssertionError",
     "evalue": "False is not true : None of the centers returned matched the original ones",
     "output_type": "error",
     "traceback": [
      "\u001b[0;31m---------------------------------------------------------------------------\u001b[0m",
      "\u001b[0;31mAssertionError\u001b[0m                            Traceback (most recent call last)",
      "\u001b[0;32m<ipython-input-26-87f7fc42d5b0>\u001b[0m in \u001b[0;36m<module>\u001b[0;34m\u001b[0m\n\u001b[1;32m      1\u001b[0m \u001b[0;31m##### CODE BELOW IS USED FOR RUNNING LOCAL TEST - COMMENT/UNCOMMENT TESTS WHILE DEBUGGING ######\u001b[0m\u001b[0;34m\u001b[0m\u001b[0;34m\u001b[0m\u001b[0;34m\u001b[0m\u001b[0m\n\u001b[0;32m----> 2\u001b[0;31m \u001b[0mChecker\u001b[0m\u001b[0;34m.\u001b[0m\u001b[0mtestHoughtransform\u001b[0m\u001b[0;34m(\u001b[0m\u001b[0mdetectCircles\u001b[0m\u001b[0;34m)\u001b[0m \u001b[0;31m#You can modify the radius and centers in tests file\u001b[0m\u001b[0;34m\u001b[0m\u001b[0;34m\u001b[0m\u001b[0m\n\u001b[0m\u001b[1;32m      3\u001b[0m \u001b[0mChecker\u001b[0m\u001b[0;34m.\u001b[0m\u001b[0mtestHoughtransformwithgradient\u001b[0m\u001b[0;34m(\u001b[0m\u001b[0mdetectCircles\u001b[0m\u001b[0;34m)\u001b[0m \u001b[0;31m# You can modify the radius and centers in the tests file\u001b[0m\u001b[0;34m\u001b[0m\u001b[0;34m\u001b[0m\u001b[0m\n\u001b[1;32m      4\u001b[0m \u001b[0;31m################ END OF LOCAL TEST CODE SECTION ################################################\u001b[0m\u001b[0;34m\u001b[0m\u001b[0;34m\u001b[0m\u001b[0;34m\u001b[0m\u001b[0m\n",
      "\u001b[0;32m~/Documents/CS4476 CV/PS4_release/proj4_code/test_simple.py\u001b[0m in \u001b[0;36mtestHoughtransform\u001b[0;34m(self, detectCircles)\u001b[0m\n\u001b[1;32m     66\u001b[0m         \u001b[0mself\u001b[0m\u001b[0;34m.\u001b[0m\u001b[0massertTrue\u001b[0m\u001b[0;34m(\u001b[0m\u001b[0mchecky\u001b[0m\u001b[0;34m,\u001b[0m\u001b[0mmsg\u001b[0m\u001b[0;34m=\u001b[0m\u001b[0;34m\"None of the centers returned matched the original ones\"\u001b[0m\u001b[0;34m)\u001b[0m\u001b[0;34m\u001b[0m\u001b[0;34m\u001b[0m\u001b[0m\n\u001b[1;32m     67\u001b[0m         \u001b[0mprint_success_message\u001b[0m\u001b[0;34m(\u001b[0m\u001b[0;34m\"testHoughstransform\"\u001b[0m\u001b[0;34m)\u001b[0m\u001b[0;34m\u001b[0m\u001b[0;34m\u001b[0m\u001b[0m\n\u001b[0;32m---> 68\u001b[0;31m \u001b[0;34m\u001b[0m\u001b[0m\n\u001b[0m\u001b[1;32m     69\u001b[0m     \u001b[0;32mdef\u001b[0m \u001b[0mtestHoughtransformwithgradient\u001b[0m\u001b[0;34m(\u001b[0m\u001b[0mself\u001b[0m\u001b[0;34m,\u001b[0m\u001b[0mdetectCircles\u001b[0m\u001b[0;34m)\u001b[0m\u001b[0;34m:\u001b[0m\u001b[0;34m\u001b[0m\u001b[0;34m\u001b[0m\u001b[0m\n\u001b[1;32m     70\u001b[0m         \u001b[0;34m\"\"\"Test for Hough transform \"\"\"\u001b[0m\u001b[0;34m\u001b[0m\u001b[0;34m\u001b[0m\u001b[0m\n",
      "\u001b[0;32m~/miniconda3/envs/proj4/lib/python3.6/unittest/case.py\u001b[0m in \u001b[0;36massertTrue\u001b[0;34m(self, expr, msg)\u001b[0m\n\u001b[1;32m    680\u001b[0m         \u001b[0;32mif\u001b[0m \u001b[0;32mnot\u001b[0m \u001b[0mexpr\u001b[0m\u001b[0;34m:\u001b[0m\u001b[0;34m\u001b[0m\u001b[0;34m\u001b[0m\u001b[0m\n\u001b[1;32m    681\u001b[0m             \u001b[0mmsg\u001b[0m \u001b[0;34m=\u001b[0m \u001b[0mself\u001b[0m\u001b[0;34m.\u001b[0m\u001b[0m_formatMessage\u001b[0m\u001b[0;34m(\u001b[0m\u001b[0mmsg\u001b[0m\u001b[0;34m,\u001b[0m \u001b[0;34m\"%s is not true\"\u001b[0m \u001b[0;34m%\u001b[0m \u001b[0msafe_repr\u001b[0m\u001b[0;34m(\u001b[0m\u001b[0mexpr\u001b[0m\u001b[0;34m)\u001b[0m\u001b[0;34m)\u001b[0m\u001b[0;34m\u001b[0m\u001b[0;34m\u001b[0m\u001b[0m\n\u001b[0;32m--> 682\u001b[0;31m             \u001b[0;32mraise\u001b[0m \u001b[0mself\u001b[0m\u001b[0;34m.\u001b[0m\u001b[0mfailureException\u001b[0m\u001b[0;34m(\u001b[0m\u001b[0mmsg\u001b[0m\u001b[0;34m)\u001b[0m\u001b[0;34m\u001b[0m\u001b[0;34m\u001b[0m\u001b[0m\n\u001b[0m\u001b[1;32m    683\u001b[0m \u001b[0;34m\u001b[0m\u001b[0m\n\u001b[1;32m    684\u001b[0m     \u001b[0;32mdef\u001b[0m \u001b[0m_formatMessage\u001b[0m\u001b[0;34m(\u001b[0m\u001b[0mself\u001b[0m\u001b[0;34m,\u001b[0m \u001b[0mmsg\u001b[0m\u001b[0;34m,\u001b[0m \u001b[0mstandardMsg\u001b[0m\u001b[0;34m)\u001b[0m\u001b[0;34m:\u001b[0m\u001b[0;34m\u001b[0m\u001b[0;34m\u001b[0m\u001b[0m\n",
      "\u001b[0;31mAssertionError\u001b[0m: False is not true : None of the centers returned matched the original ones"
     ]
    }
   ],
   "source": [
    "##### CODE BELOW IS USED FOR RUNNING LOCAL TEST - COMMENT/UNCOMMENT TESTS WHILE DEBUGGING ######\n",
    "Checker.testHoughtransform(detectCircles) #You can modify the radius and centers in tests file\n",
    "Checker.testHoughtransformwithgradient(detectCircles) # You can modify the radius and centers in the tests file\n",
    "################ END OF LOCAL TEST CODE SECTION ################################################"
   ]
  },
  {
   "cell_type": "markdown",
   "metadata": {},
   "source": [
    "# (Optional) Bonus section for CS 4476/6476 [10 points]: "
   ]
  },
  {
   "cell_type": "code",
   "execution_count": 293,
   "metadata": {},
   "outputs": [],
   "source": [
    "#export\n",
    "def  detectMultipleCircles(im, radius_min,radius_max):\n",
    "    \"\"\"\n",
    "    Args:\n",
    "        im (numpy.array RGB):the input image\n",
    "        radius_min : specifies the minimum radius of the circle \n",
    "        radius_max : specifies the maximum radius of the circle\n",
    "       \n",
    "    (Caution: Your x,y maybe swapped)\n",
    "    Returns:\n",
    "        Numpy array: N x 2 matrix in which each row lists the (x,y) position of a detectedcircles’ center\n",
    "        Numpy array: Height x Width matrix of Hough accumulator array (Height and width from the image)\n",
    "    \n",
    "    \"\"\"\n",
    "    threshold = 8.1\n",
    "    region = 15\n",
    "    radii_range = np.linspace(radius_min, radius_max, (radius_max - radius_min) // 20, dtype=int)\n",
    "    print(radii_range)\n",
    "    \n",
    "    medianImg = np.median(im)\n",
    "    edgeImg = cv2.Canny(im, int(max(0, 0.66 * medianImg)), int(min(255, 1.33 * medianImg)))\n",
    "    h, w = edgeImg.shape\n",
    "    A = np.zeros((len(radii_range), h, w))\n",
    "    B = np.zeros((h, w))\n",
    "    \n",
    "    angles = np.arange(360) * np.pi / 180\n",
    "    edges = np.argwhere(edgeImg)\n",
    "    for i, r in enumerate(radii_range):\n",
    "        print(r)\n",
    "        c = np.zeros((2*r, 2*r))\n",
    "        cx, cy = r, r\n",
    "        for angle in angles:\n",
    "            dx = int(np.round(r*np.cos(angle)))\n",
    "            dy = int(np.round(r*np.sin(angle)))\n",
    "            c[cx + dx - 1, cy + dy - 1] = 1\n",
    "        constant = np.argwhere(c).shape[0]\n",
    "#         print(constant)\n",
    "        for ex, ey in edges:\n",
    "            for dx in range(-r, r):\n",
    "                for dy in range(-r, r):\n",
    "                    x, y = ex + dx, ey + dy\n",
    "                    if x >= 0 and x < h and y >= 0 and y < w:\n",
    "                        A[i][x][y] += c[dx + r][dy + r]\n",
    "#         A[i][A[i] < threshold * constant / r] = 0\n",
    "        \n",
    "    for r, x, y in np.argwhere(A):\n",
    "        temp = A[:, x - region: x + region, y - region: y + region]\n",
    "        try:\n",
    "            i, j, k = np.unravel_index(np.argmax(temp), temp.shape)\n",
    "        except:\n",
    "            continue\n",
    "        B[x - region + j][y - region + k] = radii_range[i]\n",
    "        \n",
    "    circleCoords = np.argwhere(B)\n",
    "    print(circleCoords.shape)\n",
    "    cy = circleCoords[:, 0]\n",
    "    cx = circleCoords[:, 1]\n",
    "    \n",
    "    return circleCoords"
   ]
  },
  {
   "cell_type": "markdown",
   "metadata": {},
   "source": [
    "## Run the tests below to verify your code and generate output"
   ]
  },
  {
   "cell_type": "code",
   "execution_count": 294,
   "metadata": {},
   "outputs": [
    {
     "name": "stdout",
     "output_type": "stream",
     "text": [
      "[ 10  32  55  78 101 124 147 170]\n",
      "10\n"
     ]
    },
    {
     "ename": "KeyboardInterrupt",
     "evalue": "",
     "output_type": "error",
     "traceback": [
      "\u001b[0;31m---------------------------------------------------------------------------\u001b[0m",
      "\u001b[0;31mKeyboardInterrupt\u001b[0m                         Traceback (most recent call last)",
      "\u001b[0;32m<ipython-input-294-5e725c601ded>\u001b[0m in \u001b[0;36m<module>\u001b[0;34m\u001b[0m\n\u001b[1;32m      1\u001b[0m \u001b[0;31m##### CODE BELOW IS USED FOR RUNNING LOCAL TEST - COMMENT/UNCOMMENT TESTS WHILE DEBUGGING ######\u001b[0m\u001b[0;34m\u001b[0m\u001b[0;34m\u001b[0m\u001b[0;34m\u001b[0m\u001b[0m\n\u001b[0;32m----> 2\u001b[0;31m \u001b[0mChecker\u001b[0m\u001b[0;34m.\u001b[0m\u001b[0mtestHoughtransformMultiple\u001b[0m\u001b[0;34m(\u001b[0m\u001b[0mdetectMultipleCircles\u001b[0m\u001b[0;34m)\u001b[0m\u001b[0;34m\u001b[0m\u001b[0;34m\u001b[0m\u001b[0m\n\u001b[0m\u001b[1;32m      3\u001b[0m \u001b[0;31m################ END OF LOCAL TEST CODE SECTION ################################################\u001b[0m\u001b[0;34m\u001b[0m\u001b[0;34m\u001b[0m\u001b[0;34m\u001b[0m\u001b[0m\n",
      "\u001b[0;32m~/Documents/CS4476 CV/PS4_release/proj4_code/test_simple.py\u001b[0m in \u001b[0;36mtestHoughtransformMultiple\u001b[0;34m(self, detectMultipleCircles)\u001b[0m\n\u001b[1;32m    112\u001b[0m         \u001b[0mradius_as_pixels_max\u001b[0m \u001b[0;34m=\u001b[0m \u001b[0;36m170\u001b[0m\u001b[0;34m\u001b[0m\u001b[0;34m\u001b[0m\u001b[0m\n\u001b[1;32m    113\u001b[0m         \u001b[0mradius_as_pixels_min\u001b[0m \u001b[0;34m=\u001b[0m \u001b[0;36m10\u001b[0m\u001b[0;34m\u001b[0m\u001b[0;34m\u001b[0m\u001b[0m\n\u001b[0;32m--> 114\u001b[0;31m         \u001b[0moutput\u001b[0m\u001b[0;34m,\u001b[0m\u001b[0mhough_space\u001b[0m \u001b[0;34m=\u001b[0m  \u001b[0mdetectMultipleCircles\u001b[0m\u001b[0;34m(\u001b[0m\u001b[0mim\u001b[0m\u001b[0;34m,\u001b[0m\u001b[0mradius_as_pixels_min\u001b[0m\u001b[0;34m,\u001b[0m\u001b[0mradius_as_pixels_max\u001b[0m\u001b[0;34m)\u001b[0m\u001b[0;34m\u001b[0m\u001b[0;34m\u001b[0m\u001b[0m\n\u001b[0m\u001b[1;32m    115\u001b[0m         \u001b[0mrow1\u001b[0m\u001b[0;34m,\u001b[0m\u001b[0mcolumn1\u001b[0m \u001b[0;34m=\u001b[0m \u001b[0mcenters\u001b[0m\u001b[0;34m.\u001b[0m\u001b[0mshape\u001b[0m\u001b[0;34m\u001b[0m\u001b[0;34m\u001b[0m\u001b[0m\n\u001b[1;32m    116\u001b[0m         \u001b[0mrow2\u001b[0m\u001b[0;34m,\u001b[0m\u001b[0mcolumn2\u001b[0m \u001b[0;34m=\u001b[0m \u001b[0moutput\u001b[0m\u001b[0;34m.\u001b[0m\u001b[0mshape\u001b[0m\u001b[0;34m\u001b[0m\u001b[0;34m\u001b[0m\u001b[0m\n",
      "\u001b[0;32m<ipython-input-293-f2c66291a5c9>\u001b[0m in \u001b[0;36mdetectMultipleCircles\u001b[0;34m(im, radius_min, radius_max)\u001b[0m\n\u001b[1;32m     41\u001b[0m                     \u001b[0mx\u001b[0m\u001b[0;34m,\u001b[0m \u001b[0my\u001b[0m \u001b[0;34m=\u001b[0m \u001b[0mex\u001b[0m \u001b[0;34m+\u001b[0m \u001b[0mdx\u001b[0m\u001b[0;34m,\u001b[0m \u001b[0mey\u001b[0m \u001b[0;34m+\u001b[0m \u001b[0mdy\u001b[0m\u001b[0;34m\u001b[0m\u001b[0;34m\u001b[0m\u001b[0m\n\u001b[1;32m     42\u001b[0m                     \u001b[0;32mif\u001b[0m \u001b[0mx\u001b[0m \u001b[0;34m>=\u001b[0m \u001b[0;36m0\u001b[0m \u001b[0;32mand\u001b[0m \u001b[0mx\u001b[0m \u001b[0;34m<\u001b[0m \u001b[0mh\u001b[0m \u001b[0;32mand\u001b[0m \u001b[0my\u001b[0m \u001b[0;34m>=\u001b[0m \u001b[0;36m0\u001b[0m \u001b[0;32mand\u001b[0m \u001b[0my\u001b[0m \u001b[0;34m<\u001b[0m \u001b[0mw\u001b[0m\u001b[0;34m:\u001b[0m\u001b[0;34m\u001b[0m\u001b[0;34m\u001b[0m\u001b[0m\n\u001b[0;32m---> 43\u001b[0;31m                         \u001b[0mA\u001b[0m\u001b[0;34m[\u001b[0m\u001b[0mi\u001b[0m\u001b[0;34m]\u001b[0m\u001b[0;34m[\u001b[0m\u001b[0mx\u001b[0m\u001b[0;34m]\u001b[0m\u001b[0;34m[\u001b[0m\u001b[0my\u001b[0m\u001b[0;34m]\u001b[0m \u001b[0;34m+=\u001b[0m \u001b[0mc\u001b[0m\u001b[0;34m[\u001b[0m\u001b[0mdx\u001b[0m \u001b[0;34m+\u001b[0m \u001b[0mr\u001b[0m\u001b[0;34m]\u001b[0m\u001b[0;34m[\u001b[0m\u001b[0mdy\u001b[0m \u001b[0;34m+\u001b[0m \u001b[0mr\u001b[0m\u001b[0;34m]\u001b[0m\u001b[0;34m\u001b[0m\u001b[0;34m\u001b[0m\u001b[0m\n\u001b[0m\u001b[1;32m     44\u001b[0m \u001b[0;31m#         A[i][A[i] < threshold * constant / r] = 0\u001b[0m\u001b[0;34m\u001b[0m\u001b[0;34m\u001b[0m\u001b[0;34m\u001b[0m\u001b[0m\n\u001b[1;32m     45\u001b[0m \u001b[0;34m\u001b[0m\u001b[0m\n",
      "\u001b[0;31mKeyboardInterrupt\u001b[0m: "
     ]
    }
   ],
   "source": [
    "##### CODE BELOW IS USED FOR RUNNING LOCAL TEST - COMMENT/UNCOMMENT TESTS WHILE DEBUGGING ######\n",
    "Checker.testHoughtransformMultiple(detectMultipleCircles)\n",
    "################ END OF LOCAL TEST CODE SECTION ################################################"
   ]
  },
  {
   "cell_type": "code",
   "execution_count": null,
   "metadata": {},
   "outputs": [],
   "source": []
  }
 ],
 "metadata": {
  "colab": {
   "collapsed_sections": [],
   "name": "Hough's transform.ipynb",
   "provenance": []
  },
  "kernelspec": {
   "display_name": "Python 3",
   "language": "python",
   "name": "python3"
  },
  "language_info": {
   "codemirror_mode": {
    "name": "ipython",
    "version": 3
   },
   "file_extension": ".py",
   "mimetype": "text/x-python",
   "name": "python",
   "nbconvert_exporter": "python",
   "pygments_lexer": "ipython3",
   "version": "3.6.10"
  }
 },
 "nbformat": 4,
 "nbformat_minor": 1
}
