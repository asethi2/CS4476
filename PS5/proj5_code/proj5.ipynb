{
 "cells": [
  {
   "cell_type": "markdown",
   "metadata": {},
   "source": [
    "\n",
    "# Scene Recognition with Bag-of-Words\n",
    "For this project, you will need to report performance for two\n",
    "combinations of features / classifiers. It is suggested you code them in\n",
    "this order, as well:\n",
    "1. Nearest neighbor classifier\n",
    "2. Bag of sift features and nearest neighbor classifier\n",
    "\n",
    "The starter code is initialized to 'placeholder' just so that the starter\n",
    "code does not crash when run unmodified and you can get a preview of how\n",
    "results are presented."
   ]
  },
  {
   "cell_type": "markdown",
   "metadata": {},
   "source": [
    "## Setup"
   ]
  },
  {
   "cell_type": "code",
   "execution_count": 1,
   "metadata": {
    "pycharm": {
     "is_executing": true
    }
   },
   "outputs": [],
   "source": [
    "# Set up parameters, image paths and category list\n",
    "%matplotlib inline\n",
    "%load_ext autoreload\n",
    "%autoreload 2\n",
    "\n",
    "# import cv2\n",
    "import numpy as np\n",
    "import os.path as osp\n",
    "import pickle\n",
    "from random import shuffle\n",
    "import matplotlib.pyplot as plt\n",
    "from proj5_code.utils import *\n",
    "import proj5_code.student_code as sc\n",
    "\n",
    "# Importing tests\n",
    "from proj5_unit_tests.test_student_code import (test_build_vocabulary_shape,\n",
    "    test_build_vocabulary_values, test_get_bags_of_sifts,\n",
    "    test_kmeans_quantize_exact_matches, test_kmeans_quantize_noisy_continuous, \n",
    "    test_kmeans_2_classes_1d_features, test_kmeans_5_classes_2d_features,\n",
    "    test_nearest_neighbor_classify,\n",
    "    test_nearest_neighbor_classify_k, verify, test_pairwise_distances)\n",
    "\n",
    "# This is the list of categories / directories to use. The categories are\n",
    "# somewhat sorted by similarity so that the confusion matrix looks more\n",
    "# structured (indoor and then urban and then rural).\n",
    "categories = ['Kitchen', 'Store', 'Bedroom', 'LivingRoom', 'Office', 'Industrial', 'Suburb',\n",
    "              'InsideCity', 'TallBuilding', 'Street', 'Highway', 'OpenCountry', 'Coast',\n",
    "              'Mountain', 'Forest'];\n",
    "# This list of shortened category names is used later for visualization\n",
    "abbr_categories = ['Kit', 'Sto', 'Bed', 'Liv', 'Off', 'Ind', 'Sub',\n",
    "                   'Cty', 'Bld', 'St', 'HW', 'OC', 'Cst',\n",
    "                   'Mnt', 'For'];\n",
    "\n",
    "# Number of training examples per category to use. Max is 100. For\n",
    "# simplicity, we assume this is the number of test cases per category, as\n",
    "# well.\n",
    "num_train_per_cat = 100\n",
    "\n",
    "# This function returns lists containing the file path for each train\n",
    "# and test image, as well as lists with the label of each train and\n",
    "# test image. By default all four of these lists will have 1500 elements\n",
    "# where each element is a string.\n",
    "data_path = osp.join('..', 'data')\n",
    "# train_image_paths, test_image_paths, train_labels, test_labels = get_image_paths(data_path,\n",
    "#                                                                                  categories,\n",
    "#                                                                                  num_train_per_cat);\n",
    "train_image_arrays, test_image_arrays, train_labels, test_labels = get_image_arrays(data_path,\n",
    "                                                                                 categories,\n",
    "                                                                               num_train_per_cat)\n",
    "if len(train_image_arrays) == 0:\n",
    "    print(data_path, 'not found')"
   ]
  },
  {
   "cell_type": "markdown",
   "metadata": {},
   "source": [
    "## Section 1: Tiny Image features with Nearest Neighbor classifier"
   ]
  },
  {
   "cell_type": "markdown",
   "metadata": {},
   "source": [
    "### Section 1a: Pairwise distances\n",
    "\n",
    "In order to perform nearest neighbor classification, we'll need a distance metric. In `pairwise_distances()` you'll be implementing a Euclidean distance method. Recall that in 2D, the Euclidean distance between two vectors $X = [x_1, x_2]$ and $Y = [y_1, y_2]$ is defined as\n",
    "\n",
    "$$dist(X, Y) = \\sqrt{(y_1 - x_1)^2 + (y_2 - x_2)^2}$$"
   ]
  },
  {
   "cell_type": "code",
   "execution_count": 2,
   "metadata": {
    "pycharm": {
     "is_executing": true
    }
   },
   "outputs": [
    {
     "name": "stdout",
     "output_type": "stream",
     "text": [
      "test_pairwise_distances():\u001b[32m\"Correct\"\u001b[0m\n"
     ]
    }
   ],
   "source": [
    "print(\"test_pairwise_distances():\" + verify(test_pairwise_distances))"
   ]
  },
  {
   "cell_type": "markdown",
   "metadata": {},
   "source": [
    "### Section 1a: Represent each image with the Tiny Image feature\n",
    "\n",
    "Each function to construct features should return an N x d numpy array, where N is the number of paths passed to the function and d is the dimensionality of each image representation. See the code in utils.py for more details."
   ]
  },
  {
   "cell_type": "code",
   "execution_count": 3,
   "metadata": {
    "pycharm": {
     "is_executing": true
    }
   },
   "outputs": [
    {
     "name": "stdout",
     "output_type": "stream",
     "text": [
      "Using the TINY IMAGE representation for images\n",
      "(1500, 256) (1500, 256)\n"
     ]
    }
   ],
   "source": [
    "print('Using the TINY IMAGE representation for images')\n",
    "\n",
    "size = 16\n",
    "train_image_feats = get_tiny_images(train_image_arrays, size)\n",
    "test_image_feats = get_tiny_images(test_image_arrays, size)\n",
    "\n",
    "print(train_image_feats.shape, test_image_feats.shape)"
   ]
  },
  {
   "cell_type": "markdown",
   "metadata": {},
   "source": [
    "### Section 1b: Classify each test image by training and using the Nearest Neighbor classifier\n",
    "\n",
    "To run the following cells you will need to implement the nearest neighbor classifier. See the function stub for details.\n",
    "\n",
    "Each function to classify test features will return an N element list, where N is the number of test cases and each entry is a string indicating the predicted category for each test image. Each entry in 'predicted_categories' must be one of the 15 strings in 'categories'. See the starter code for each function for more details."
   ]
  },
  {
   "cell_type": "code",
   "execution_count": 60,
   "metadata": {
    "pycharm": {
     "is_executing": true
    }
   },
   "outputs": [
    {
     "name": "stdout",
     "output_type": "stream",
     "text": [
      "[0.0, 1.0, 2.0]\n",
      "test_nearest_neighbor_classify()\u001b[32m\"Correct\"\u001b[0m\n",
      "[0]\n",
      "test_nearest_neighbor_classify_k()\u001b[32m\"Correct\"\u001b[0m\n"
     ]
    }
   ],
   "source": [
    "# Test cases for nearest neighbor classify\n",
    "print(\"test_nearest_neighbor_classify()\" + verify(test_nearest_neighbor_classify))\n",
    "print(\"test_nearest_neighbor_classify_k()\" + verify(test_nearest_neighbor_classify_k))"
   ]
  },
  {
   "cell_type": "markdown",
   "metadata": {},
   "source": [
    "### Experiments\n",
    "Vary `size` and `k` to run your experiments\n",
    "\n",
    "If we wanted to evaluate our recognition method properly we would train\n",
    "and test on many random splits of the data. You are not required to do so\n",
    "for this project.\n",
    "\n",
    "`show_results()` function will create a confusion matrix each time it is called. It will save the confusion matrix figure in the location specified.\n",
    "\n",
    "View the confusion matrix to help interpret your classifier performance. Where is it making mistakes? Are the confusions reasonable?\n",
    "\n",
    "Interpreting your performance with 100 training examples per category:\n",
    "- accuracy  =   0 -> Your code is broken (probably not the classifier's fault! A classifier would have to be amazing to perform this badly).\n",
    "- accuracy ~= .07 -> Your performance is chance. Something is broken or you ran the starter code unchanged.\n",
    "- accuracy ~= .15 ~ .20 -> Rough performance with tiny images and nearest neighbor classifier. Performance goes up a few percentage points with K-NN instead of 1-NN."
   ]
  },
  {
   "cell_type": "code",
   "execution_count": 69,
   "metadata": {
    "pycharm": {
     "is_executing": true
    }
   },
   "outputs": [
    {
     "name": "stdout",
     "output_type": "stream",
     "text": [
      "Using NEAREST NEIGHBOR classifier to predict test set categories\n",
      "1500 1500 256\n",
      "[[-0.06665325 -0.06068002 -0.0612842  ...  0.00413058 -0.003873\n",
      "   0.00323753]\n",
      " [-0.03802701 -0.01737436  0.02459031 ... -0.06268868  0.03344785\n",
      "   0.02670049]\n",
      " [ 0.11091092  0.04160394  0.03743993 ... -0.02733652 -0.03801179\n",
      "  -0.06753508]\n",
      " ...\n",
      " [-0.08664476 -0.05709615  0.08807851 ... -0.10119163 -0.0604371\n",
      "  -0.07172246]\n",
      " [ 0.08791749 -0.01453992 -0.00686228 ...  0.04261291 -0.00902919\n",
      "   0.01894544]\n",
      " [ 0.0248594  -0.00684167 -0.05103474 ... -0.03444693  0.02973423\n",
      "   0.00781687]]\n",
      "[[ 0.02438687 -0.00470983 -0.08212946 ... -0.05616139 -0.03792027\n",
      "  -0.12269249]\n",
      " [-0.06844177 -0.12296367 -0.07059558 ...  0.09543449  0.08865838\n",
      "   0.09169275]\n",
      " [ 0.09068347  0.02590452  0.13201883 ...  0.00052297 -0.01161268\n",
      "  -0.11466934]\n",
      " ...\n",
      " [-0.06693924 -0.06384422 -0.01218683 ... -0.05914567 -0.06775745\n",
      "  -0.01121856]\n",
      " [-0.1234199  -0.10524216 -0.07770156 ... -0.11477746 -0.04720383\n",
      "  -0.07056148]\n",
      " [-0.0268517   0.03223377 -0.08735748 ...  0.02225409  0.04660178\n",
      "   0.03166866]]\n",
      "['Kitchen', 'Kitchen', 'Kitchen', 'Kitchen', 'Kitchen', 'Kitchen', 'Kitchen', 'Kitchen', 'Kitchen', 'Kitchen', 'Kitchen', 'Kitchen', 'Kitchen', 'Kitchen', 'Kitchen', 'Kitchen', 'Kitchen', 'Kitchen', 'Kitchen', 'Kitchen', 'Kitchen', 'Kitchen', 'Kitchen', 'Kitchen', 'Kitchen', 'Kitchen', 'Kitchen', 'Kitchen', 'Kitchen', 'Kitchen', 'Kitchen', 'Kitchen', 'Kitchen', 'Kitchen', 'Kitchen', 'Kitchen', 'Kitchen', 'Kitchen', 'Kitchen', 'Kitchen', 'Kitchen', 'Kitchen', 'Kitchen', 'Kitchen', 'Kitchen', 'Kitchen', 'Kitchen', 'Kitchen', 'Kitchen', 'Kitchen', 'Kitchen', 'Kitchen', 'Kitchen', 'Kitchen', 'Kitchen', 'Kitchen', 'Kitchen', 'Kitchen', 'Kitchen', 'Kitchen', 'Kitchen', 'Kitchen', 'Kitchen', 'Kitchen', 'Kitchen', 'Kitchen', 'Kitchen', 'Kitchen', 'Kitchen', 'Kitchen', 'Kitchen', 'Kitchen', 'Kitchen', 'Kitchen', 'Kitchen', 'Kitchen', 'Kitchen', 'Kitchen', 'Kitchen', 'Kitchen', 'Kitchen', 'Kitchen', 'Kitchen', 'Kitchen', 'Kitchen', 'Kitchen', 'Kitchen', 'Kitchen', 'Kitchen', 'Kitchen', 'Kitchen', 'Kitchen', 'Kitchen', 'Kitchen', 'Kitchen', 'Kitchen', 'Kitchen', 'Kitchen', 'Kitchen', 'Kitchen', 'Store', 'Store', 'Store', 'Store', 'Store', 'Store', 'Store', 'Store', 'Store', 'Store', 'Store', 'Store', 'Store', 'Store', 'Store', 'Store', 'Store', 'Store', 'Store', 'Store', 'Store', 'Store', 'Store', 'Store', 'Store', 'Store', 'Store', 'Store', 'Store', 'Store', 'Store', 'Store', 'Store', 'Store', 'Store', 'Store', 'Store', 'Store', 'Store', 'Store', 'Store', 'Store', 'Store', 'Store', 'Store', 'Store', 'Store', 'Store', 'Store', 'Store', 'Store', 'Store', 'Store', 'Store', 'Store', 'Store', 'Store', 'Store', 'Store', 'Store', 'Store', 'Store', 'Store', 'Store', 'Store', 'Store', 'Store', 'Store', 'Store', 'Store', 'Store', 'Store', 'Store', 'Store', 'Store', 'Store', 'Store', 'Store', 'Store', 'Store', 'Store', 'Store', 'Store', 'Store', 'Store', 'Store', 'Store', 'Store', 'Store', 'Store', 'Store', 'Store', 'Store', 'Store', 'Store', 'Store', 'Store', 'Store', 'Store', 'Store', 'Bedroom', 'Bedroom', 'Bedroom', 'Bedroom', 'Bedroom', 'Bedroom', 'Bedroom', 'Bedroom', 'Bedroom', 'Bedroom', 'Bedroom', 'Bedroom', 'Bedroom', 'Bedroom', 'Bedroom', 'Bedroom', 'Bedroom', 'Bedroom', 'Bedroom', 'Bedroom', 'Bedroom', 'Bedroom', 'Bedroom', 'Bedroom', 'Bedroom', 'Bedroom', 'Bedroom', 'Bedroom', 'Bedroom', 'Bedroom', 'Bedroom', 'Bedroom', 'Bedroom', 'Bedroom', 'Bedroom', 'Bedroom', 'Bedroom', 'Bedroom', 'Bedroom', 'Bedroom', 'Bedroom', 'Bedroom', 'Bedroom', 'Bedroom', 'Bedroom', 'Bedroom', 'Bedroom', 'Bedroom', 'Bedroom', 'Bedroom', 'Bedroom', 'Bedroom', 'Bedroom', 'Bedroom', 'Bedroom', 'Bedroom', 'Bedroom', 'Bedroom', 'Bedroom', 'Bedroom', 'Bedroom', 'Bedroom', 'Bedroom', 'Bedroom', 'Bedroom', 'Bedroom', 'Bedroom', 'Bedroom', 'Bedroom', 'Bedroom', 'Bedroom', 'Bedroom', 'Bedroom', 'Bedroom', 'Bedroom', 'Bedroom', 'Bedroom', 'Bedroom', 'Bedroom', 'Bedroom', 'Bedroom', 'Bedroom', 'Bedroom', 'Bedroom', 'Bedroom', 'Bedroom', 'Bedroom', 'Bedroom', 'Bedroom', 'Bedroom', 'Bedroom', 'Bedroom', 'Bedroom', 'Bedroom', 'Bedroom', 'Bedroom', 'Bedroom', 'Bedroom', 'Bedroom', 'Bedroom', 'LivingRoom', 'LivingRoom', 'LivingRoom', 'LivingRoom', 'LivingRoom', 'LivingRoom', 'LivingRoom', 'LivingRoom', 'LivingRoom', 'LivingRoom', 'LivingRoom', 'LivingRoom', 'LivingRoom', 'LivingRoom', 'LivingRoom', 'LivingRoom', 'LivingRoom', 'LivingRoom', 'LivingRoom', 'LivingRoom', 'LivingRoom', 'LivingRoom', 'LivingRoom', 'LivingRoom', 'LivingRoom', 'LivingRoom', 'LivingRoom', 'LivingRoom', 'LivingRoom', 'LivingRoom', 'LivingRoom', 'LivingRoom', 'LivingRoom', 'LivingRoom', 'LivingRoom', 'LivingRoom', 'LivingRoom', 'LivingRoom', 'LivingRoom', 'LivingRoom', 'LivingRoom', 'LivingRoom', 'LivingRoom', 'LivingRoom', 'LivingRoom', 'LivingRoom', 'LivingRoom', 'LivingRoom', 'LivingRoom', 'LivingRoom', 'LivingRoom', 'LivingRoom', 'LivingRoom', 'LivingRoom', 'LivingRoom', 'LivingRoom', 'LivingRoom', 'LivingRoom', 'LivingRoom', 'LivingRoom', 'LivingRoom', 'LivingRoom', 'LivingRoom', 'LivingRoom', 'LivingRoom', 'LivingRoom', 'LivingRoom', 'LivingRoom', 'LivingRoom', 'LivingRoom', 'LivingRoom', 'LivingRoom', 'LivingRoom', 'LivingRoom', 'LivingRoom', 'LivingRoom', 'LivingRoom', 'LivingRoom', 'LivingRoom', 'LivingRoom', 'LivingRoom', 'LivingRoom', 'LivingRoom', 'LivingRoom', 'LivingRoom', 'LivingRoom', 'LivingRoom', 'LivingRoom', 'LivingRoom', 'LivingRoom', 'LivingRoom', 'LivingRoom', 'LivingRoom', 'LivingRoom', 'LivingRoom', 'LivingRoom', 'LivingRoom', 'LivingRoom', 'LivingRoom', 'LivingRoom', 'Office', 'Office', 'Office', 'Office', 'Office', 'Office', 'Office', 'Office', 'Office', 'Office', 'Office', 'Office', 'Office', 'Office', 'Office', 'Office', 'Office', 'Office', 'Office', 'Office', 'Office', 'Office', 'Office', 'Office', 'Office', 'Office', 'Office', 'Office', 'Office', 'Office', 'Office', 'Office', 'Office', 'Office', 'Office', 'Office', 'Office', 'Office', 'Office', 'Office', 'Office', 'Office', 'Office', 'Office', 'Office', 'Office', 'Office', 'Office', 'Office', 'Office', 'Office', 'Office', 'Office', 'Office', 'Office', 'Office', 'Office', 'Office', 'Office', 'Office', 'Office', 'Office', 'Office', 'Office', 'Office', 'Office', 'Office', 'Office', 'Office', 'Office', 'Office', 'Office', 'Office', 'Office', 'Office', 'Office', 'Office', 'Office', 'Office', 'Office', 'Office', 'Office', 'Office', 'Office', 'Office', 'Office', 'Office', 'Office', 'Office', 'Office', 'Office', 'Office', 'Office', 'Office', 'Office', 'Office', 'Office', 'Office', 'Office', 'Office', 'Industrial', 'Industrial', 'Industrial', 'Industrial', 'Industrial', 'Industrial', 'Industrial', 'Industrial', 'Industrial', 'Industrial', 'Industrial', 'Industrial', 'Industrial', 'Industrial', 'Industrial', 'Industrial', 'Industrial', 'Industrial', 'Industrial', 'Industrial', 'Industrial', 'Industrial', 'Industrial', 'Industrial', 'Industrial', 'Industrial', 'Industrial', 'Industrial', 'Industrial', 'Industrial', 'Industrial', 'Industrial', 'Industrial', 'Industrial', 'Industrial', 'Industrial', 'Industrial', 'Industrial', 'Industrial', 'Industrial', 'Industrial', 'Industrial', 'Industrial', 'Industrial', 'Industrial', 'Industrial', 'Industrial', 'Industrial', 'Industrial', 'Industrial', 'Industrial', 'Industrial', 'Industrial', 'Industrial', 'Industrial', 'Industrial', 'Industrial', 'Industrial', 'Industrial', 'Industrial', 'Industrial', 'Industrial', 'Industrial', 'Industrial', 'Industrial', 'Industrial', 'Industrial', 'Industrial', 'Industrial', 'Industrial', 'Industrial', 'Industrial', 'Industrial', 'Industrial', 'Industrial', 'Industrial', 'Industrial', 'Industrial', 'Industrial', 'Industrial', 'Industrial', 'Industrial', 'Industrial', 'Industrial', 'Industrial', 'Industrial', 'Industrial', 'Industrial', 'Industrial', 'Industrial', 'Industrial', 'Industrial', 'Industrial', 'Industrial', 'Industrial', 'Industrial', 'Industrial', 'Industrial', 'Industrial', 'Industrial', 'Suburb', 'Suburb', 'Suburb', 'Suburb', 'Suburb', 'Suburb', 'Suburb', 'Suburb', 'Suburb', 'Suburb', 'Suburb', 'Suburb', 'Suburb', 'Suburb', 'Suburb', 'Suburb', 'Suburb', 'Suburb', 'Suburb', 'Suburb', 'Suburb', 'Suburb', 'Suburb', 'Suburb', 'Suburb', 'Suburb', 'Suburb', 'Suburb', 'Suburb', 'Suburb', 'Suburb', 'Suburb', 'Suburb', 'Suburb', 'Suburb', 'Suburb', 'Suburb', 'Suburb', 'Suburb', 'Suburb', 'Suburb', 'Suburb', 'Suburb', 'Suburb', 'Suburb', 'Suburb', 'Suburb', 'Suburb', 'Suburb', 'Suburb', 'Suburb', 'Suburb', 'Suburb', 'Suburb', 'Suburb', 'Suburb', 'Suburb', 'Suburb', 'Suburb', 'Suburb', 'Suburb', 'Suburb', 'Suburb', 'Suburb', 'Suburb', 'Suburb', 'Suburb', 'Suburb', 'Suburb', 'Suburb', 'Suburb', 'Suburb', 'Suburb', 'Suburb', 'Suburb', 'Suburb', 'Suburb', 'Suburb', 'Suburb', 'Suburb', 'Suburb', 'Suburb', 'Suburb', 'Suburb', 'Suburb', 'Suburb', 'Suburb', 'Suburb', 'Suburb', 'Suburb', 'Suburb', 'Suburb', 'Suburb', 'Suburb', 'Suburb', 'Suburb', 'Suburb', 'Suburb', 'Suburb', 'Suburb', 'InsideCity', 'InsideCity', 'InsideCity', 'InsideCity', 'InsideCity', 'InsideCity', 'InsideCity', 'InsideCity', 'InsideCity', 'InsideCity', 'InsideCity', 'InsideCity', 'InsideCity', 'InsideCity', 'InsideCity', 'InsideCity', 'InsideCity', 'InsideCity', 'InsideCity', 'InsideCity', 'InsideCity', 'InsideCity', 'InsideCity', 'InsideCity', 'InsideCity', 'InsideCity', 'InsideCity', 'InsideCity', 'InsideCity', 'InsideCity', 'InsideCity', 'InsideCity', 'InsideCity', 'InsideCity', 'InsideCity', 'InsideCity', 'InsideCity', 'InsideCity', 'InsideCity', 'InsideCity', 'InsideCity', 'InsideCity', 'InsideCity', 'InsideCity', 'InsideCity', 'InsideCity', 'InsideCity', 'InsideCity', 'InsideCity', 'InsideCity', 'InsideCity', 'InsideCity', 'InsideCity', 'InsideCity', 'InsideCity', 'InsideCity', 'InsideCity', 'InsideCity', 'InsideCity', 'InsideCity', 'InsideCity', 'InsideCity', 'InsideCity', 'InsideCity', 'InsideCity', 'InsideCity', 'InsideCity', 'InsideCity', 'InsideCity', 'InsideCity', 'InsideCity', 'InsideCity', 'InsideCity', 'InsideCity', 'InsideCity', 'InsideCity', 'InsideCity', 'InsideCity', 'InsideCity', 'InsideCity', 'InsideCity', 'InsideCity', 'InsideCity', 'InsideCity', 'InsideCity', 'InsideCity', 'InsideCity', 'InsideCity', 'InsideCity', 'InsideCity', 'InsideCity', 'InsideCity', 'InsideCity', 'InsideCity', 'InsideCity', 'InsideCity', 'InsideCity', 'InsideCity', 'InsideCity', 'InsideCity', 'TallBuilding', 'TallBuilding', 'TallBuilding', 'TallBuilding', 'TallBuilding', 'TallBuilding', 'TallBuilding', 'TallBuilding', 'TallBuilding', 'TallBuilding', 'TallBuilding', 'TallBuilding', 'TallBuilding', 'TallBuilding', 'TallBuilding', 'TallBuilding', 'TallBuilding', 'TallBuilding', 'TallBuilding', 'TallBuilding', 'TallBuilding', 'TallBuilding', 'TallBuilding', 'TallBuilding', 'TallBuilding', 'TallBuilding', 'TallBuilding', 'TallBuilding', 'TallBuilding', 'TallBuilding', 'TallBuilding', 'TallBuilding', 'TallBuilding', 'TallBuilding', 'TallBuilding', 'TallBuilding', 'TallBuilding', 'TallBuilding', 'TallBuilding', 'TallBuilding', 'TallBuilding', 'TallBuilding', 'TallBuilding', 'TallBuilding', 'TallBuilding', 'TallBuilding', 'TallBuilding', 'TallBuilding', 'TallBuilding', 'TallBuilding', 'TallBuilding', 'TallBuilding', 'TallBuilding', 'TallBuilding', 'TallBuilding', 'TallBuilding', 'TallBuilding', 'TallBuilding', 'TallBuilding', 'TallBuilding', 'TallBuilding', 'TallBuilding', 'TallBuilding', 'TallBuilding', 'TallBuilding', 'TallBuilding', 'TallBuilding', 'TallBuilding', 'TallBuilding', 'TallBuilding', 'TallBuilding', 'TallBuilding', 'TallBuilding', 'TallBuilding', 'TallBuilding', 'TallBuilding', 'TallBuilding', 'TallBuilding', 'TallBuilding', 'TallBuilding', 'TallBuilding', 'TallBuilding', 'TallBuilding', 'TallBuilding', 'TallBuilding', 'TallBuilding', 'TallBuilding', 'TallBuilding', 'TallBuilding', 'TallBuilding', 'TallBuilding', 'TallBuilding', 'TallBuilding', 'TallBuilding', 'TallBuilding', 'TallBuilding', 'TallBuilding', 'TallBuilding', 'TallBuilding', 'TallBuilding', 'Street', 'Street', 'Street', 'Street', 'Street', 'Street', 'Street', 'Street', 'Street', 'Street', 'Street', 'Street', 'Street', 'Street', 'Street', 'Street', 'Street', 'Street', 'Street', 'Street', 'Street', 'Street', 'Street', 'Street', 'Street', 'Street', 'Street', 'Street', 'Street', 'Street', 'Street', 'Street', 'Street', 'Street', 'Street', 'Street', 'Street', 'Street', 'Street', 'Street', 'Street', 'Street', 'Street', 'Street', 'Street', 'Street', 'Street', 'Street', 'Street', 'Street', 'Street', 'Street', 'Street', 'Street', 'Street', 'Street', 'Street', 'Street', 'Street', 'Street', 'Street', 'Street', 'Street', 'Street', 'Street', 'Street', 'Street', 'Street', 'Street', 'Street', 'Street', 'Street', 'Street', 'Street', 'Street', 'Street', 'Street', 'Street', 'Street', 'Street', 'Street', 'Street', 'Street', 'Street', 'Street', 'Street', 'Street', 'Street', 'Street', 'Street', 'Street', 'Street', 'Street', 'Street', 'Street', 'Street', 'Street', 'Street', 'Street', 'Street', 'Highway', 'Highway', 'Highway', 'Highway', 'Highway', 'Highway', 'Highway', 'Highway', 'Highway', 'Highway', 'Highway', 'Highway', 'Highway', 'Highway', 'Highway', 'Highway', 'Highway', 'Highway', 'Highway', 'Highway', 'Highway', 'Highway', 'Highway', 'Highway', 'Highway', 'Highway', 'Highway', 'Highway', 'Highway', 'Highway', 'Highway', 'Highway', 'Highway', 'Highway', 'Highway', 'Highway', 'Highway', 'Highway', 'Highway', 'Highway', 'Highway', 'Highway', 'Highway', 'Highway', 'Highway', 'Highway', 'Highway', 'Highway', 'Highway', 'Highway', 'Highway', 'Highway', 'Highway', 'Highway', 'Highway', 'Highway', 'Highway', 'Highway', 'Highway', 'Highway', 'Highway', 'Highway', 'Highway', 'Highway', 'Highway', 'Highway', 'Highway', 'Highway', 'Highway', 'Highway', 'Highway', 'Highway', 'Highway', 'Highway', 'Highway', 'Highway', 'Highway', 'Highway', 'Highway', 'Highway', 'Highway', 'Highway', 'Highway', 'Highway', 'Highway', 'Highway', 'Highway', 'Highway', 'Highway', 'Highway', 'Highway', 'Highway', 'Highway', 'Highway', 'Highway', 'Highway', 'Highway', 'Highway', 'Highway', 'Highway', 'OpenCountry', 'OpenCountry', 'OpenCountry', 'OpenCountry', 'OpenCountry', 'OpenCountry', 'OpenCountry', 'OpenCountry', 'OpenCountry', 'OpenCountry', 'OpenCountry', 'OpenCountry', 'OpenCountry', 'OpenCountry', 'OpenCountry', 'OpenCountry', 'OpenCountry', 'OpenCountry', 'OpenCountry', 'OpenCountry', 'OpenCountry', 'OpenCountry', 'OpenCountry', 'OpenCountry', 'OpenCountry', 'OpenCountry', 'OpenCountry', 'OpenCountry', 'OpenCountry', 'OpenCountry', 'OpenCountry', 'OpenCountry', 'OpenCountry', 'OpenCountry', 'OpenCountry', 'OpenCountry', 'OpenCountry', 'OpenCountry', 'OpenCountry', 'OpenCountry', 'OpenCountry', 'OpenCountry', 'OpenCountry', 'OpenCountry', 'OpenCountry', 'OpenCountry', 'OpenCountry', 'OpenCountry', 'OpenCountry', 'OpenCountry', 'OpenCountry', 'OpenCountry', 'OpenCountry', 'OpenCountry', 'OpenCountry', 'OpenCountry', 'OpenCountry', 'OpenCountry', 'OpenCountry', 'OpenCountry', 'OpenCountry', 'OpenCountry', 'OpenCountry', 'OpenCountry', 'OpenCountry', 'OpenCountry', 'OpenCountry', 'OpenCountry', 'OpenCountry', 'OpenCountry', 'OpenCountry', 'OpenCountry', 'OpenCountry', 'OpenCountry', 'OpenCountry', 'OpenCountry', 'OpenCountry', 'OpenCountry', 'OpenCountry', 'OpenCountry', 'OpenCountry', 'OpenCountry', 'OpenCountry', 'OpenCountry', 'OpenCountry', 'OpenCountry', 'OpenCountry', 'OpenCountry', 'OpenCountry', 'OpenCountry', 'OpenCountry', 'OpenCountry', 'OpenCountry', 'OpenCountry', 'OpenCountry', 'OpenCountry', 'OpenCountry', 'OpenCountry', 'OpenCountry', 'OpenCountry', 'Coast', 'Coast', 'Coast', 'Coast', 'Coast', 'Coast', 'Coast', 'Coast', 'Coast', 'Coast', 'Coast', 'Coast', 'Coast', 'Coast', 'Coast', 'Coast', 'Coast', 'Coast', 'Coast', 'Coast', 'Coast', 'Coast', 'Coast', 'Coast', 'Coast', 'Coast', 'Coast', 'Coast', 'Coast', 'Coast', 'Coast', 'Coast', 'Coast', 'Coast', 'Coast', 'Coast', 'Coast', 'Coast', 'Coast', 'Coast', 'Coast', 'Coast', 'Coast', 'Coast', 'Coast', 'Coast', 'Coast', 'Coast', 'Coast', 'Coast', 'Coast', 'Coast', 'Coast', 'Coast', 'Coast', 'Coast', 'Coast', 'Coast', 'Coast', 'Coast', 'Coast', 'Coast', 'Coast', 'Coast', 'Coast', 'Coast', 'Coast', 'Coast', 'Coast', 'Coast', 'Coast', 'Coast', 'Coast', 'Coast', 'Coast', 'Coast', 'Coast', 'Coast', 'Coast', 'Coast', 'Coast', 'Coast', 'Coast', 'Coast', 'Coast', 'Coast', 'Coast', 'Coast', 'Coast', 'Coast', 'Coast', 'Coast', 'Coast', 'Coast', 'Coast', 'Coast', 'Coast', 'Coast', 'Coast', 'Coast', 'Mountain', 'Mountain', 'Mountain', 'Mountain', 'Mountain', 'Mountain', 'Mountain', 'Mountain', 'Mountain', 'Mountain', 'Mountain', 'Mountain', 'Mountain', 'Mountain', 'Mountain', 'Mountain', 'Mountain', 'Mountain', 'Mountain', 'Mountain', 'Mountain', 'Mountain', 'Mountain', 'Mountain', 'Mountain', 'Mountain', 'Mountain', 'Mountain', 'Mountain', 'Mountain', 'Mountain', 'Mountain', 'Mountain', 'Mountain', 'Mountain', 'Mountain', 'Mountain', 'Mountain', 'Mountain', 'Mountain', 'Mountain', 'Mountain', 'Mountain', 'Mountain', 'Mountain', 'Mountain', 'Mountain', 'Mountain', 'Mountain', 'Mountain', 'Mountain', 'Mountain', 'Mountain', 'Mountain', 'Mountain', 'Mountain', 'Mountain', 'Mountain', 'Mountain', 'Mountain', 'Mountain', 'Mountain', 'Mountain', 'Mountain', 'Mountain', 'Mountain', 'Mountain', 'Mountain', 'Mountain', 'Mountain', 'Mountain', 'Mountain', 'Mountain', 'Mountain', 'Mountain', 'Mountain', 'Mountain', 'Mountain', 'Mountain', 'Mountain', 'Mountain', 'Mountain', 'Mountain', 'Mountain', 'Mountain', 'Mountain', 'Mountain', 'Mountain', 'Mountain', 'Mountain', 'Mountain', 'Mountain', 'Mountain', 'Mountain', 'Mountain', 'Mountain', 'Mountain', 'Mountain', 'Mountain', 'Mountain', 'Forest', 'Forest', 'Forest', 'Forest', 'Forest', 'Forest', 'Forest', 'Forest', 'Forest', 'Forest', 'Forest', 'Forest', 'Forest', 'Forest', 'Forest', 'Forest', 'Forest', 'Forest', 'Forest', 'Forest', 'Forest', 'Forest', 'Forest', 'Forest', 'Forest', 'Forest', 'Forest', 'Forest', 'Forest', 'Forest', 'Forest', 'Forest', 'Forest', 'Forest', 'Forest', 'Forest', 'Forest', 'Forest', 'Forest', 'Forest', 'Forest', 'Forest', 'Forest', 'Forest', 'Forest', 'Forest', 'Forest', 'Forest', 'Forest', 'Forest', 'Forest', 'Forest', 'Forest', 'Forest', 'Forest', 'Forest', 'Forest', 'Forest', 'Forest', 'Forest', 'Forest', 'Forest', 'Forest', 'Forest', 'Forest', 'Forest', 'Forest', 'Forest', 'Forest', 'Forest', 'Forest', 'Forest', 'Forest', 'Forest', 'Forest', 'Forest', 'Forest', 'Forest', 'Forest', 'Forest', 'Forest', 'Forest', 'Forest', 'Forest', 'Forest', 'Forest', 'Forest', 'Forest', 'Forest', 'Forest', 'Forest', 'Forest', 'Forest', 'Forest', 'Forest', 'Forest', 'Forest', 'Forest', 'Forest', 'Forest']\n"
     ]
    },
    {
     "name": "stdout",
     "output_type": "stream",
     "text": [
      "['Office', 'Mountain', 'Highway', 'Industrial', 'Mountain', 'Coast', 'Industrial', 'Office', 'OpenCountry', 'Street', 'Industrial', 'Bedroom', 'Coast', 'Coast', 'Coast', 'Industrial', 'OpenCountry', 'Industrial', 'Industrial', 'Office', 'Office', 'Suburb', 'Industrial', 'Suburb', 'Bedroom', 'Street', 'Mountain', 'OpenCountry', 'Coast', 'Highway', 'Industrial', 'Highway', 'Kitchen', 'Office', 'Bedroom', 'TallBuilding', 'Highway', 'Suburb', 'Coast', 'Highway', 'Coast', 'Industrial', 'Industrial', 'TallBuilding', 'Coast', 'Mountain', 'Street', 'Coast', 'Bedroom', 'Industrial', 'Street', 'Office', 'Coast', 'Suburb', 'Mountain', 'OpenCountry', 'Coast', 'Store', 'Kitchen', 'Highway', 'Highway', 'Office', 'OpenCountry', 'Industrial', 'Street', 'Office', 'OpenCountry', 'Office', 'InsideCity', 'Coast', 'LivingRoom', 'Coast', 'Highway', 'Kitchen', 'Street', 'Kitchen', 'OpenCountry', 'Coast', 'Industrial', 'Highway', 'Highway', 'Coast', 'Industrial', 'Kitchen', 'Industrial', 'Mountain', 'Coast', 'Industrial', 'Forest', 'Street', 'Industrial', 'Coast', 'Coast', 'Office', 'OpenCountry', 'Coast', 'Bedroom', 'Coast', 'Coast', 'Mountain', 'Industrial', 'Forest', 'Mountain', 'Bedroom', 'Mountain', 'Coast', 'TallBuilding', 'Coast', 'Office', 'OpenCountry', 'OpenCountry', 'Store', 'OpenCountry', 'OpenCountry', 'Coast', 'Forest', 'OpenCountry', 'Highway', 'Industrial', 'Street', 'Coast', 'Office', 'Coast', 'Coast', 'Highway', 'TallBuilding', 'OpenCountry', 'Office', 'TallBuilding', 'Bedroom', 'TallBuilding', 'OpenCountry', 'Highway', 'OpenCountry', 'Industrial', 'Street', 'TallBuilding', 'Highway', 'TallBuilding', 'Coast', 'Industrial', 'Mountain', 'Office', 'Suburb', 'OpenCountry', 'Office', 'OpenCountry', 'Office', 'Kitchen', 'InsideCity', 'Coast', 'Highway', 'InsideCity', 'Suburb', 'OpenCountry', 'Mountain', 'Mountain', 'Suburb', 'Forest', 'Office', 'Mountain', 'TallBuilding', 'OpenCountry', 'Street', 'Industrial', 'Forest', 'Industrial', 'OpenCountry', 'Forest', 'Industrial', 'Mountain', 'OpenCountry', 'Office', 'Street', 'Coast', 'Coast', 'Coast', 'OpenCountry', 'Suburb', 'Suburb', 'Coast', 'Office', 'Industrial', 'TallBuilding', 'Kitchen', 'TallBuilding', 'Suburb', 'Street', 'Highway', 'Highway', 'Bedroom', 'Street', 'Bedroom', 'Highway', 'OpenCountry', 'TallBuilding', 'Kitchen', 'Industrial', 'Forest', 'Highway', 'Highway', 'Highway', 'Industrial', 'Coast', 'Industrial', 'Industrial', 'Kitchen', 'LivingRoom', 'Coast', 'Coast', 'Industrial', 'Mountain', 'Highway', 'Street', 'Coast', 'Office', 'Bedroom', 'Highway', 'Mountain', 'Bedroom', 'Bedroom', 'Coast', 'Highway', 'Office', 'Industrial', 'Bedroom', 'Industrial', 'Industrial', 'Highway', 'Coast', 'Bedroom', 'Kitchen', 'Coast', 'Coast', 'Highway', 'Bedroom', 'Industrial', 'Industrial', 'Forest', 'Bedroom', 'Industrial', 'Coast', 'Coast', 'Coast', 'Coast', 'Office', 'Coast', 'Street', 'Coast', 'Highway', 'OpenCountry', 'Highway', 'Highway', 'Highway', 'Coast', 'Coast', 'Industrial', 'Industrial', 'Highway', 'Mountain', 'Mountain', 'Highway', 'Bedroom', 'Bedroom', 'Coast', 'Highway', 'Bedroom', 'Forest', 'Highway', 'Industrial', 'Highway', 'Highway', 'Industrial', 'Street', 'Street', 'Coast', 'Office', 'Bedroom', 'Highway', 'Coast', 'Bedroom', 'OpenCountry', 'Bedroom', 'Coast', 'Highway', 'Coast', 'Highway', 'Coast', 'Suburb', 'TallBuilding', 'Highway', 'Store', 'Coast', 'Industrial', 'Industrial', 'Industrial', 'Highway', 'Street', 'Office', 'Coast', 'Highway', 'Street', 'Office', 'Bedroom', 'Highway', 'Highway', 'Suburb', 'TallBuilding', 'Coast', 'Coast', 'Industrial', 'TallBuilding', 'Highway', 'Coast', 'Street', 'Highway', 'Street', 'InsideCity', 'Suburb', 'Coast', 'Coast', 'Highway', 'Highway', 'OpenCountry', 'Highway', 'Industrial', 'Highway', 'Street', 'Street', 'Mountain', 'Highway', 'Street', 'OpenCountry', 'Coast', 'Mountain', 'Street', 'LivingRoom', 'Industrial', 'Bedroom', 'Industrial', 'Coast', 'Coast', 'Coast', 'Highway', 'Office', 'Coast', 'Suburb', 'Coast', 'Coast', 'Coast', 'Suburb', 'Highway', 'Suburb', 'Highway', 'Suburb', 'Coast', 'Coast', 'Highway', 'Highway', 'Bedroom', 'Highway', 'Coast', 'Highway', 'Store', 'Suburb', 'TallBuilding', 'Industrial', 'LivingRoom', 'Highway', 'Street', 'Coast', 'Highway', 'OpenCountry', 'TallBuilding', 'Office', 'Store', 'Store', 'Coast', 'Highway', 'Coast', 'Street', 'Industrial', 'Mountain', 'LivingRoom', 'Highway', 'Coast', 'Forest', 'Mountain', 'Coast', 'Mountain', 'Street', 'Industrial', 'Highway', 'Street', 'Industrial', 'Coast', 'Industrial', 'Mountain', 'Coast', 'Office', 'Mountain', 'Mountain', 'TallBuilding', 'Industrial', 'Street', 'Coast', 'Office', 'Highway', 'Industrial', 'Industrial', 'Industrial', 'Forest', 'TallBuilding', 'Highway', 'Office', 'Office', 'Coast', 'Office', 'Office', 'TallBuilding', 'Bedroom', 'Office', 'Highway', 'Office', 'Coast', 'OpenCountry', 'Office', 'Coast', 'Bedroom', 'Coast', 'OpenCountry', 'Office', 'Coast', 'Coast', 'Office', 'Industrial', 'Industrial', 'Highway', 'Industrial', 'Office', 'Mountain', 'Highway', 'Office', 'Industrial', 'Highway', 'TallBuilding', 'Office', 'Industrial', 'Coast', 'Street', 'Highway', 'Coast', 'Office', 'Coast', 'Highway', 'Mountain', 'Office', 'Coast', 'Industrial', 'Highway', 'LivingRoom', 'Office', 'Office', 'Industrial', 'Industrial', 'Forest', 'TallBuilding', 'Bedroom', 'Industrial', 'Office', 'Office', 'Office', 'Highway', 'Industrial', 'Highway', 'InsideCity', 'Coast', 'Industrial', 'Highway', 'Coast', 'Highway', 'Forest', 'Industrial', 'Mountain', 'Industrial', 'Office', 'Coast', 'Office', 'Mountain', 'Office', 'Industrial', 'Coast', 'Highway', 'Office', 'Highway', 'TallBuilding', 'Office', 'Office', 'Mountain', 'Industrial', 'Mountain', 'Industrial', 'Coast', 'Street', 'OpenCountry', 'Coast', 'OpenCountry', 'Highway', 'Coast', 'Bedroom', 'Highway', 'Highway', 'Suburb', 'Coast', 'OpenCountry', 'Mountain', 'OpenCountry', 'Highway', 'Coast', 'Highway', 'Suburb', 'Bedroom', 'OpenCountry', 'OpenCountry', 'Coast', 'Coast', 'Highway', 'Highway', 'Forest', 'Highway', 'Bedroom', 'Coast', 'Coast', 'TallBuilding', 'Industrial', 'Highway', 'Highway', 'Highway', 'OpenCountry', 'Coast', 'Store', 'OpenCountry', 'Suburb', 'Highway', 'Highway', 'OpenCountry', 'Street', 'Coast', 'Coast', 'Highway', 'Highway', 'Coast', 'Mountain', 'InsideCity', 'TallBuilding', 'Mountain', 'Highway', 'Highway', 'Industrial', 'Industrial', 'OpenCountry', 'Highway', 'Coast', 'Forest', 'Highway', 'OpenCountry', 'OpenCountry', 'Industrial', 'Highway', 'Highway', 'Highway', 'Coast', 'OpenCountry', 'Highway', 'OpenCountry', 'Highway', 'Highway', 'Highway', 'Coast', 'Coast', 'Highway', 'OpenCountry', 'Suburb', 'Industrial', 'Coast', 'Mountain', 'Highway', 'Industrial', 'Industrial', 'OpenCountry', 'Industrial', 'Bedroom', 'Highway', 'Industrial', 'OpenCountry', 'Highway', 'Industrial', 'Industrial', 'TallBuilding', 'Coast', 'Suburb', 'Highway', 'OpenCountry', 'Suburb', 'Suburb', 'Street', 'Suburb', 'Suburb', 'Street', 'Suburb', 'Suburb', 'Street', 'Suburb', 'Suburb', 'Coast', 'Street', 'Industrial', 'Street', 'Highway', 'OpenCountry', 'Coast', 'Coast', 'Industrial', 'Suburb', 'Suburb', 'Suburb', 'OpenCountry', 'Coast', 'Highway', 'Industrial', 'Suburb', 'Suburb', 'Suburb', 'Suburb', 'TallBuilding', 'Suburb', 'Suburb', 'Street', 'Highway', 'Suburb', 'Street', 'Industrial', 'Highway', 'Suburb', 'Coast', 'Suburb', 'Suburb', 'Street', 'OpenCountry', 'Suburb', 'Suburb', 'OpenCountry', 'Coast', 'Suburb', 'Suburb', 'Suburb', 'OpenCountry', 'Suburb', 'Suburb', 'Forest', 'Suburb', 'Kitchen', 'Coast', 'Office', 'Suburb', 'OpenCountry', 'Industrial', 'Suburb', 'Kitchen', 'OpenCountry', 'Mountain', 'Suburb', 'TallBuilding', 'Coast', 'OpenCountry', 'Suburb', 'Highway', 'Suburb', 'Street', 'Highway', 'Suburb', 'Suburb', 'Coast', 'Suburb', 'Suburb', 'Suburb', 'Suburb', 'OpenCountry', 'TallBuilding', 'Suburb', 'Coast', 'Street', 'OpenCountry', 'TallBuilding', 'Street', 'OpenCountry', 'Highway', 'Suburb', 'Suburb', 'Highway', 'OpenCountry', 'Suburb', 'Coast', 'Office', 'Industrial', 'TallBuilding', 'OpenCountry', 'Highway', 'Industrial', 'Bedroom', 'OpenCountry', 'Industrial', 'Mountain', 'Coast', 'Kitchen', 'Highway', 'Street', 'Highway', 'Street', 'Office', 'Forest', 'Industrial', 'Coast', 'Coast', 'Coast', 'Forest', 'Coast', 'Industrial', 'Highway', 'Suburb', 'Store', 'OpenCountry', 'Forest', 'Forest', 'Forest', 'OpenCountry', 'Coast', 'Industrial', 'OpenCountry', 'Street', 'Forest', 'Suburb', 'OpenCountry', 'Highway', 'Highway', 'Suburb', 'OpenCountry', 'Forest', 'Coast', 'Office', 'Office', 'Coast', 'Forest', 'Suburb', 'Coast', 'Forest', 'Forest', 'Office', 'Suburb', 'Industrial', 'Mountain', 'Suburb', 'Suburb', 'Coast', 'OpenCountry', 'Industrial', 'Office', 'Coast', 'OpenCountry', 'Coast', 'Kitchen', 'Highway', 'Suburb', 'InsideCity', 'Forest', 'OpenCountry', 'OpenCountry', 'Mountain', 'OpenCountry', 'Highway', 'Office', 'Coast', 'Coast', 'Mountain', 'Office', 'Coast', 'Suburb', 'Suburb', 'Coast', 'Street', 'Suburb', 'Coast', 'OpenCountry', 'Office', 'Highway', 'OpenCountry', 'Suburb', 'Street', 'TallBuilding', 'Industrial', 'Coast', 'Coast', 'TallBuilding', 'Street', 'Coast', 'OpenCountry', 'TallBuilding', 'Office', 'Mountain', 'TallBuilding', 'Street', 'Industrial', 'Office', 'Industrial', 'Highway', 'Industrial', 'Coast', 'Street', 'Office', 'Coast', 'Office', 'Coast', 'Coast', 'Highway', 'Industrial', 'OpenCountry', 'Street', 'Industrial', 'Industrial', 'Coast', 'Street', 'Industrial', 'Coast', 'OpenCountry', 'Forest', 'TallBuilding', 'Highway', 'Office', 'Highway', 'Industrial', 'Industrial', 'Industrial', 'Office', 'Industrial', 'TallBuilding', 'Highway', 'Bedroom', 'Office', 'Office', 'Highway', 'Industrial', 'Mountain', 'Industrial', 'Coast', 'Coast', 'Coast', 'Kitchen', 'Industrial', 'Street', 'Office', 'Coast', 'Highway', 'Industrial', 'Street', 'Bedroom', 'Bedroom', 'Office', 'Office', 'TallBuilding', 'TallBuilding', 'Highway', 'Industrial', 'Mountain', 'Mountain', 'Street', 'Forest', 'Street', 'OpenCountry', 'TallBuilding', 'Office', 'TallBuilding', 'OpenCountry', 'Mountain', 'Coast', 'Highway', 'Highway', 'Coast', 'Industrial', 'Office', 'OpenCountry', 'Industrial', 'Coast', 'Highway', 'Coast', 'Highway', 'Industrial', 'TallBuilding', 'Coast', 'Suburb', 'LivingRoom', 'Street', 'Street', 'Bedroom', 'Suburb', 'Office', 'Street', 'Street', 'Highway', 'Street', 'Coast', 'InsideCity', 'Highway', 'Street', 'Coast', 'Highway', 'Street', 'Street', 'OpenCountry', 'Highway', 'Street', 'Street', 'Street', 'Street', 'Forest', 'Street', 'Highway', 'Street', 'Street', 'Street', 'Street', 'Street', 'Street', 'Highway', 'Street', 'Street', 'OpenCountry', 'Street', 'Industrial', 'Street', 'Street', 'Street', 'Mountain', 'Suburb', 'Coast', 'OpenCountry', 'Suburb', 'Street', 'Suburb', 'Street', 'OpenCountry', 'Street', 'Coast', 'OpenCountry', 'Street', 'Suburb', 'Street', 'Street', 'Office', 'Street', 'OpenCountry', 'Street', 'Street', 'Street', 'Street', 'Street', 'Street', 'Street', 'Highway', 'Coast', 'Forest', 'Industrial', 'Street', 'Kitchen', 'Suburb', 'Street', 'Suburb', 'OpenCountry', 'Coast', 'Coast', 'Street', 'Street', 'Street', 'OpenCountry', 'Street', 'Street', 'Industrial', 'Highway', 'Street', 'Coast', 'Street', 'Street', 'Street', 'Street', 'Highway', 'Highway', 'Suburb', 'OpenCountry', 'Street', 'Street', 'Highway', 'OpenCountry', 'Coast', 'Coast', 'Coast', 'OpenCountry', 'Coast', 'Suburb', 'Highway', 'Highway', 'Highway', 'Highway', 'Highway', 'Coast', 'Highway', 'OpenCountry', 'Highway', 'Coast', 'Highway', 'Highway', 'Coast', 'Industrial', 'Highway', 'Highway', 'Mountain', 'Suburb', 'Highway', 'Office', 'Highway', 'Highway', 'Suburb', 'OpenCountry', 'Coast', 'Highway', 'Highway', 'Highway', 'Suburb', 'Highway', 'Highway', 'Highway', 'Mountain', 'Highway', 'OpenCountry', 'Coast', 'Coast', 'Highway', 'Highway', 'InsideCity', 'Highway', 'Highway', 'OpenCountry', 'Coast', 'Highway', 'Highway', 'Highway', 'Coast', 'Highway', 'Highway', 'Highway', 'OpenCountry', 'OpenCountry', 'Highway', 'Coast', 'Highway', 'Industrial', 'Highway', 'Highway', 'Highway', 'Highway', 'Coast', 'Highway', 'Highway', 'Coast', 'Highway', 'Highway', 'OpenCountry', 'OpenCountry', 'OpenCountry', 'Highway', 'Coast', 'OpenCountry', 'Highway', 'Coast', 'Highway', 'Store', 'Highway', 'Highway', 'Highway', 'Highway', 'Highway', 'Highway', 'Highway', 'Highway', 'OpenCountry', 'Highway', 'Highway', 'Highway', 'Highway', 'Coast', 'OpenCountry', 'Highway', 'Highway', 'OpenCountry', 'OpenCountry', 'OpenCountry', 'OpenCountry', 'Street', 'Coast', 'Mountain', 'OpenCountry', 'OpenCountry', 'Highway', 'OpenCountry', 'OpenCountry', 'OpenCountry', 'Suburb', 'Highway', 'Office', 'Coast', 'Mountain', 'Coast', 'InsideCity', 'OpenCountry', 'Highway', 'Coast', 'Coast', 'OpenCountry', 'Coast', 'Street', 'Highway', 'OpenCountry', 'OpenCountry', 'OpenCountry', 'Coast', 'OpenCountry', 'Office', 'Highway', 'Street', 'OpenCountry', 'OpenCountry', 'Mountain', 'Highway', 'Highway', 'Highway', 'Coast', 'Coast', 'Coast', 'OpenCountry', 'Suburb', 'OpenCountry', 'Coast', 'OpenCountry', 'OpenCountry', 'Coast', 'Forest', 'Suburb', 'Coast', 'Highway', 'OpenCountry', 'Coast', 'Highway', 'Highway', 'Coast', 'Coast', 'OpenCountry', 'OpenCountry', 'Highway', 'OpenCountry', 'OpenCountry', 'Coast', 'Coast', 'OpenCountry', 'Highway', 'OpenCountry', 'Industrial', 'OpenCountry', 'OpenCountry', 'Highway', 'Industrial', 'Coast', 'Mountain', 'Highway', 'OpenCountry', 'Forest', 'Coast', 'Office', 'Highway', 'OpenCountry', 'Coast', 'OpenCountry', 'Highway', 'OpenCountry', 'OpenCountry', 'Coast', 'OpenCountry', 'Mountain', 'Suburb', 'OpenCountry', 'Highway', 'OpenCountry', 'OpenCountry', 'Coast', 'OpenCountry', 'Coast', 'Coast', 'Mountain', 'Coast', 'Coast', 'Suburb', 'Coast', 'OpenCountry', 'Highway', 'OpenCountry', 'Forest', 'Coast', 'OpenCountry', 'Street', 'Forest', 'Mountain', 'Office', 'Suburb', 'Coast', 'Highway', 'Industrial', 'Coast', 'Mountain', 'Coast', 'Highway', 'Highway', 'Highway', 'InsideCity', 'OpenCountry', 'Highway', 'Industrial', 'Highway', 'Office', 'Coast', 'Forest', 'Forest', 'Highway', 'Bedroom', 'Highway', 'Coast', 'Coast', 'Forest', 'Coast', 'Coast', 'Coast', 'OpenCountry', 'Coast', 'Coast', 'Mountain', 'OpenCountry', 'Coast', 'Coast', 'Office', 'OpenCountry', 'Industrial', 'Highway', 'Coast', 'Industrial', 'Highway', 'Coast', 'Mountain', 'Coast', 'Coast', 'Street', 'Coast', 'Office', 'Highway', 'Highway', 'OpenCountry', 'Highway', 'OpenCountry', 'Highway', 'Coast', 'OpenCountry', 'OpenCountry', 'Mountain', 'Coast', 'Coast', 'Office', 'Office', 'Coast', 'OpenCountry', 'Coast', 'Coast', 'Highway', 'Office', 'Industrial', 'Coast', 'TallBuilding', 'Coast', 'Highway', 'Coast', 'Coast', 'Coast', 'Coast', 'Coast', 'InsideCity', 'Coast', 'OpenCountry', 'Highway', 'Highway', 'Industrial', 'Highway', 'Highway', 'Highway', 'OpenCountry', 'TallBuilding', 'OpenCountry', 'Office', 'Industrial', 'Industrial', 'Coast', 'Highway', 'Coast', 'Highway', 'Highway', 'Industrial', 'Bedroom', 'Coast', 'Coast', 'Mountain', 'Kitchen', 'Coast', 'Coast', 'OpenCountry', 'Forest', 'Industrial', 'Coast', 'Mountain', 'OpenCountry', 'Coast', 'Mountain', 'Coast', 'Mountain', 'Coast', 'Mountain', 'Street', 'OpenCountry', 'Mountain', 'Coast', 'Mountain', 'Mountain', 'Coast', 'Coast', 'TallBuilding', 'Highway', 'Bedroom', 'Highway', 'Industrial', 'Coast', 'Coast', 'Coast', 'Bedroom', 'Suburb', 'Coast', 'OpenCountry', 'Street', 'Coast', 'Highway', 'Office', 'Bedroom', 'InsideCity', 'Highway', 'Mountain', 'Mountain', 'OpenCountry', 'Mountain', 'Forest', 'Highway', 'Highway', 'Coast', 'OpenCountry', 'InsideCity', 'Office', 'Mountain', 'Industrial', 'InsideCity', 'Street', 'Industrial', 'OpenCountry', 'OpenCountry', 'Mountain', 'Forest', 'Office', 'OpenCountry', 'Highway', 'OpenCountry', 'Mountain', 'Highway', 'Industrial', 'OpenCountry', 'Mountain', 'Coast', 'Coast', 'Mountain', 'OpenCountry', 'Mountain', 'OpenCountry', 'Kitchen', 'Coast', 'TallBuilding', 'Suburb', 'Coast', 'Coast', 'Suburb', 'OpenCountry', 'Suburb', 'Coast', 'TallBuilding', 'OpenCountry', 'Office', 'Office', 'Office', 'Coast', 'Office', 'Street', 'Office', 'Forest', 'Suburb', 'Office', 'Forest', 'Mountain', 'Office', 'TallBuilding', 'TallBuilding', 'Industrial', 'Mountain', 'Coast', 'Suburb', 'Kitchen', 'Office', 'OpenCountry', 'Forest', 'Industrial', 'Office', 'Street', 'Suburb', 'Street', 'Industrial', 'OpenCountry', 'Office', 'Office', 'Coast', 'Coast', 'Coast', 'Mountain', 'Street', 'Office', 'Suburb', 'Suburb', 'Mountain', 'Coast', 'Forest', 'Office', 'Office', 'Coast', 'Industrial', 'Highway', 'OpenCountry', 'Office', 'Office', 'Forest', 'Forest', 'Industrial', 'Forest', 'Highway', 'OpenCountry', 'Mountain', 'Coast', 'Industrial', 'Forest', 'Industrial', 'OpenCountry', 'TallBuilding', 'InsideCity', 'Street', 'Coast', 'Office', 'OpenCountry', 'Highway', 'Industrial', 'Industrial', 'Suburb', 'Coast', 'Mountain', 'Mountain', 'Kitchen', 'Mountain', 'Suburb', 'Office', 'Office', 'Forest', 'Forest', 'Office', 'Office', 'Industrial', 'Office', 'OpenCountry']\n"
     ]
    }
   ],
   "source": [
    "size = 16\n",
    "k = 15\n",
    "\n",
    "train_image_feats = get_tiny_images(train_image_arrays, size)\n",
    "test_image_feats = get_tiny_images(test_image_arrays, size)\n",
    "\n",
    "\n",
    "print('Using NEAREST NEIGHBOR classifier to predict test set categories')\n",
    "predicted_labels = sc.nearest_neighbor_classify(train_image_feats, train_labels, test_image_feats, k)"
   ]
  },
  {
   "cell_type": "code",
   "execution_count": 70,
   "metadata": {
    "pycharm": {
     "is_executing": true
    },
    "scrolled": false
   },
   "outputs": [
    {
     "data": {
      "image/png": "[encoded data removed]",
      "text/plain": [
       "<Figure size 432x288 with 1 Axes>"
      ]
     },
     "metadata": {
      "needs_background": "light"
     },
     "output_type": "display_data"
    }
   ],
   "source": [
    "show_results(test_labels, categories, abbr_categories,predicted_labels, 'cm.png')"
   ]
  },
  {
   "cell_type": "markdown",
   "metadata": {},
   "source": [
    "## Section 2: Bag of SIFT features with Nearest Neighbor classifier"
   ]
  },
  {
   "cell_type": "markdown",
   "metadata": {},
   "source": [
    "### Section 2a: Represent each image with the Bag of SIFT feature\n",
    "\n",
    "Now we will implement a more advanced feature set to describe our images - SIFT features! To build the SIFT vocabulary for bag of words, you will need to implement the k-means clustering algorithm and utilize it in your build vocabulary function."
   ]
  },
  {
   "cell_type": "markdown",
   "metadata": {},
   "source": [
    "To begin with, we have provided you with a simple visual demo on how kmeans works. No need to write any code yet, run the next cell, and play around with the slider to check the kmeans clustering process. (Credits to teaching staff from CS6601; thank you Prof. Starner!)"
   ]
  },
  {
   "cell_type": "code",
   "execution_count": 43,
   "metadata": {
    "pycharm": {
     "is_executing": true
    }
   },
   "outputs": [
    {
     "name": "stdout",
     "output_type": "stream",
     "text": [
      "<numpy.lib.npyio.NpzFile object at 0x1a61dc3e48>\n"
     ]
    },
    {
     "data": {
      "application/vnd.jupyter.widget-view+json": {
       "model_id": "95389af3ad474ce7919444d5660357a1",
       "version_major": 2,
       "version_minor": 0
      },
      "text/plain": [
       "interactive(children=(IntSlider(value=5, description='i', max=10, min=1), Output()), _dom_classes=('widget-int…"
      ]
     },
     "metadata": {},
     "output_type": "display_data"
    }
   ],
   "source": [
    "from ipywidgets import *\n",
    "import matplotlib.pyplot as plt\n",
    "K = 3\n",
    "data = np.load('../proj5_unit_tests/test_data/kmeans.npz', allow_pickle=True)\n",
    "print(data)\n",
    "X = data['X']\n",
    "y = data['y']\n",
    "means_history = data['means']\n",
    "clusters_history = data['clu']\n",
    "\n",
    "# This is an interactive cell to see the progress of training your K-means algorithm.\n",
    "# Feel free to improve the visualization code and share it with your classmates on Piazza\n",
    "def get_cluster(i):\n",
    "    clusters = clusters_history[i] # Get the clusters from K-means' i-th iteration\n",
    "    plt.figure(None, figsize=(15,6)) # Set the plot size\n",
    "    plt.suptitle('Drag the slider to see the algorthm training progress')\n",
    "    ax1=plt.subplot(1, 2, 1)\n",
    "    ax1.set_title('K-means clsuters - step %d' % i)\n",
    "    for k in range(K):\n",
    "        plt.plot(X[clusters==k,0], X[clusters==k,1], '.')\n",
    "    # Just to get a flavour of how the data looks like\n",
    "    ax2=plt.subplot(1, 2, 2)\n",
    "    ax2.set_title('Ground truth clusters')\n",
    "    for i in np.unique(y):\n",
    "        ax2.plot(X[y==i,0],X[y==i,1],'.')\n",
    "\n",
    "    plt.show()\n",
    "\n",
    "interactive(get_cluster, i=(1,len(clusters_history)-1,1))"
   ]
  },
  {
   "cell_type": "code",
   "execution_count": 17,
   "metadata": {
    "pycharm": {
     "is_executing": true
    }
   },
   "outputs": [
    {
     "name": "stdout",
     "output_type": "stream",
     "text": [
      "test_kmeans_2_classes_1d_features()\u001b[32m\"Correct\"\u001b[0m\n",
      "test_kmeans_5_classes_2d_features()\u001b[32m\"Correct\"\u001b[0m\n",
      "test_kmeans_2_classes_1d_features()\u001b[32m\"Correct\"\u001b[0m\n",
      "test_kmeans_5_classes_2d_features()\u001b[32m\"Correct\"\u001b[0m\n"
     ]
    }
   ],
   "source": [
    "print(\"test_kmeans_2_classes_1d_features()\" + verify(test_kmeans_2_classes_1d_features))\n",
    "print(\"test_kmeans_5_classes_2d_features()\" + verify(test_kmeans_5_classes_2d_features))\n",
    "\n",
    "print(\"test_kmeans_2_classes_1d_features()\" + verify(test_build_vocabulary_shape))\n",
    "print(\"test_kmeans_5_classes_2d_features()\" + verify(test_build_vocabulary_values))"
   ]
  },
  {
   "cell_type": "markdown",
   "metadata": {},
   "source": [
    "To create a new vocabulary, make sure `vocab_filename` is different than the old vocabulary, or delete the old one.\n",
    "\n",
    "**Important: note the logic for this cell: if the vocab file is present in the directory, then we'll proceed directly to getting SIFT representations; otherwise the vocab is built from scratch. The first time you run the cell, expect running time to be at least 10 minutes, as we are building the vocab as well as getting SIFT representations at the same time. Hence, make sure that you have passed all unit tests for this section before proceeding with the following cell!**"
   ]
  },
  {
   "cell_type": "code",
   "execution_count": 43,
   "metadata": {
    "pycharm": {
     "is_executing": true
    },
    "scrolled": true
   },
   "outputs": [
    {
     "name": "stdout",
     "output_type": "stream",
     "text": [
      "Using the BAG-OF-SIFT representation for images\n"
     ]
    }
   ],
   "source": [
    "print('Using the BAG-OF-SIFT representation for images')\n",
    "\n",
    "vocab_size = 100  # Larger values will work better (to a point) but be much slower to compute\n",
    "stride = 20\n",
    "max_iter = 10\n",
    "vocab_filename = \"../data/vocab.pkl\"\n",
    "\n",
    "if not osp.isfile(vocab_filename):\n",
    "    # Construct the vocabulary\n",
    "    print('No existing visual word vocabulary found. Computing one from training images')\n",
    "    vocab = sc.build_vocabulary(train_image_arrays, vocab_size, stride, max_iter)\n",
    "    with open(vocab_filename, 'wb') as f:\n",
    "        pickle.dump(vocab, f)\n",
    "        print('{:s} saved'.format(vocab_filename))\n",
    "else:\n",
    "    with open(vocab_filename, 'rb') as f:\n",
    "        vocab = pickle.load(f)"
   ]
  },
  {
   "cell_type": "markdown",
   "metadata": {},
   "source": [
    "Now that we have built our vocabulary of visual words, we will use it to process our training and testing images.\n",
    "\n",
    "You will need to implement two analagous functions to run the cell below\n",
    "\n",
    "**Note: running on the full dataset will take some time**"
   ]
  },
  {
   "cell_type": "code",
   "execution_count": 59,
   "metadata": {
    "pycharm": {
     "is_executing": true
    }
   },
   "outputs": [
    {
     "name": "stdout",
     "output_type": "stream",
     "text": [
      "passed shape\n",
      "test_get_bags_of_sifts()\u001b[32m\"Correct\"\u001b[0m\n"
     ]
    }
   ],
   "source": [
    "# print(\"test_kmeans_quantize_exact_matches()\" + verify(test_kmeans_quantize_exact_matches))\n",
    "# print(\"test_kmeans_quantize_noisy_continuous()\" + verify(test_kmeans_quantize_noisy_continuous))\n",
    "\n",
    "print(\"test_get_bags_of_sifts()\" + verify(test_get_bags_of_sifts))"
   ]
  },
  {
   "cell_type": "code",
   "execution_count": 45,
   "metadata": {
    "pycharm": {
     "is_executing": true
    },
    "scrolled": true
   },
   "outputs": [
    {
     "ename": "KeyboardInterrupt",
     "evalue": "",
     "output_type": "error",
     "traceback": [
      "\u001b[0;31m---------------------------------------------------------------------------\u001b[0m",
      "\u001b[0;31mKeyboardInterrupt\u001b[0m                         Traceback (most recent call last)",
      "\u001b[0;32m<ipython-input-45-8c2ccb09bddc>\u001b[0m in \u001b[0;36m<module>\u001b[0;34m\u001b[0m\n\u001b[1;32m      4\u001b[0m \u001b[0mbags_of_sift_stride\u001b[0m \u001b[0;34m=\u001b[0m \u001b[0;36m5\u001b[0m\u001b[0;34m\u001b[0m\u001b[0;34m\u001b[0m\u001b[0m\n\u001b[1;32m      5\u001b[0m \u001b[0mtrain_image_feats\u001b[0m \u001b[0;34m=\u001b[0m \u001b[0msc\u001b[0m\u001b[0;34m.\u001b[0m\u001b[0mget_bags_of_sifts\u001b[0m\u001b[0;34m(\u001b[0m\u001b[0mtrain_image_arrays\u001b[0m\u001b[0;34m,\u001b[0m \u001b[0mvocab\u001b[0m\u001b[0;34m,\u001b[0m \u001b[0mbags_of_sift_stride\u001b[0m\u001b[0;34m)\u001b[0m\u001b[0;34m\u001b[0m\u001b[0;34m\u001b[0m\u001b[0m\n\u001b[0;32m----> 6\u001b[0;31m \u001b[0mtest_image_feats\u001b[0m \u001b[0;34m=\u001b[0m \u001b[0msc\u001b[0m\u001b[0;34m.\u001b[0m\u001b[0mget_bags_of_sifts\u001b[0m\u001b[0;34m(\u001b[0m\u001b[0mtest_image_arrays\u001b[0m\u001b[0;34m,\u001b[0m \u001b[0mvocab\u001b[0m\u001b[0;34m,\u001b[0m \u001b[0mbags_of_sift_stride\u001b[0m\u001b[0;34m)\u001b[0m\u001b[0;34m\u001b[0m\u001b[0;34m\u001b[0m\u001b[0m\n\u001b[0m",
      "\u001b[0;32m~/Documents/CS4476 CV/proj5/proj5_code/student_code.py\u001b[0m in \u001b[0;36mget_bags_of_sifts\u001b[0;34m(image_arrays, vocabulary, stride)\u001b[0m\n\u001b[1;32m    284\u001b[0m         \u001b[0mh\u001b[0m\u001b[0;34m,\u001b[0m \u001b[0mw\u001b[0m \u001b[0;34m=\u001b[0m \u001b[0mimg\u001b[0m\u001b[0;34m.\u001b[0m\u001b[0mshape\u001b[0m\u001b[0;34m\u001b[0m\u001b[0;34m\u001b[0m\u001b[0m\n\u001b[1;32m    285\u001b[0m         \u001b[0mx\u001b[0m\u001b[0;34m,\u001b[0m \u001b[0my\u001b[0m \u001b[0;34m=\u001b[0m \u001b[0mgenerate_sample_points\u001b[0m\u001b[0;34m(\u001b[0m\u001b[0mh\u001b[0m\u001b[0;34m,\u001b[0m \u001b[0mw\u001b[0m\u001b[0;34m,\u001b[0m \u001b[0mstride\u001b[0m\u001b[0;34m)\u001b[0m\u001b[0;34m\u001b[0m\u001b[0;34m\u001b[0m\u001b[0m\n\u001b[0;32m--> 286\u001b[0;31m         \u001b[0mfv\u001b[0m \u001b[0;34m=\u001b[0m \u001b[0mget_siftnet_features\u001b[0m\u001b[0;34m(\u001b[0m\u001b[0mtorch\u001b[0m\u001b[0;34m.\u001b[0m\u001b[0mfrom_numpy\u001b[0m\u001b[0;34m(\u001b[0m\u001b[0mimg\u001b[0m\u001b[0;34m)\u001b[0m\u001b[0;34m.\u001b[0m\u001b[0mview\u001b[0m\u001b[0;34m(\u001b[0m\u001b[0;36m1\u001b[0m\u001b[0;34m,\u001b[0m \u001b[0;36m1\u001b[0m\u001b[0;34m,\u001b[0m \u001b[0mh\u001b[0m\u001b[0;34m,\u001b[0m \u001b[0mw\u001b[0m\u001b[0;34m)\u001b[0m\u001b[0;34m.\u001b[0m\u001b[0mtype\u001b[0m\u001b[0;34m(\u001b[0m\u001b[0mtorch\u001b[0m\u001b[0;34m.\u001b[0m\u001b[0mfloat32\u001b[0m\u001b[0;34m)\u001b[0m\u001b[0;34m,\u001b[0m \u001b[0mx\u001b[0m\u001b[0;34m,\u001b[0m \u001b[0my\u001b[0m\u001b[0;34m)\u001b[0m\u001b[0;34m\u001b[0m\u001b[0;34m\u001b[0m\u001b[0m\n\u001b[0m\u001b[1;32m    287\u001b[0m         \u001b[0md\u001b[0m \u001b[0;34m=\u001b[0m \u001b[0mpairwise_distances\u001b[0m\u001b[0;34m(\u001b[0m\u001b[0mfv\u001b[0m\u001b[0;34m,\u001b[0m \u001b[0mvocab\u001b[0m\u001b[0;34m)\u001b[0m\u001b[0;34m\u001b[0m\u001b[0;34m\u001b[0m\u001b[0m\n\u001b[1;32m    288\u001b[0m         \u001b[0mc\u001b[0m \u001b[0;34m=\u001b[0m \u001b[0mnp\u001b[0m\u001b[0;34m.\u001b[0m\u001b[0margmin\u001b[0m\u001b[0;34m(\u001b[0m\u001b[0md\u001b[0m\u001b[0;34m,\u001b[0m \u001b[0maxis\u001b[0m\u001b[0;34m=\u001b[0m\u001b[0;36m1\u001b[0m\u001b[0;34m)\u001b[0m\u001b[0;34m\u001b[0m\u001b[0;34m\u001b[0m\u001b[0m\n",
      "\u001b[0;32m~/Documents/CS4476 CV/proj5/proj5_code/student_code.py\u001b[0m in \u001b[0;36mpairwise_distances\u001b[0;34m(X, Y)\u001b[0m\n\u001b[1;32m     39\u001b[0m     \u001b[0;32mfor\u001b[0m \u001b[0mi\u001b[0m \u001b[0;32min\u001b[0m \u001b[0mrange\u001b[0m\u001b[0;34m(\u001b[0m\u001b[0mN\u001b[0m\u001b[0;34m)\u001b[0m\u001b[0;34m:\u001b[0m\u001b[0;34m\u001b[0m\u001b[0;34m\u001b[0m\u001b[0m\n\u001b[1;32m     40\u001b[0m         \u001b[0;32mfor\u001b[0m \u001b[0mj\u001b[0m \u001b[0;32min\u001b[0m \u001b[0mrange\u001b[0m\u001b[0;34m(\u001b[0m\u001b[0mM\u001b[0m\u001b[0;34m)\u001b[0m\u001b[0;34m:\u001b[0m\u001b[0;34m\u001b[0m\u001b[0;34m\u001b[0m\u001b[0m\n\u001b[0;32m---> 41\u001b[0;31m             \u001b[0mD\u001b[0m\u001b[0;34m[\u001b[0m\u001b[0mi\u001b[0m\u001b[0;34m]\u001b[0m\u001b[0;34m[\u001b[0m\u001b[0mj\u001b[0m\u001b[0;34m]\u001b[0m \u001b[0;34m=\u001b[0m \u001b[0mnp\u001b[0m\u001b[0;34m.\u001b[0m\u001b[0msum\u001b[0m\u001b[0;34m(\u001b[0m\u001b[0;34m(\u001b[0m\u001b[0mX\u001b[0m\u001b[0;34m[\u001b[0m\u001b[0mi\u001b[0m\u001b[0;34m]\u001b[0m \u001b[0;34m-\u001b[0m \u001b[0mY\u001b[0m\u001b[0;34m[\u001b[0m\u001b[0mj\u001b[0m\u001b[0;34m]\u001b[0m\u001b[0;34m)\u001b[0m \u001b[0;34m**\u001b[0m \u001b[0;36m2\u001b[0m\u001b[0;34m)\u001b[0m \u001b[0;34m**\u001b[0m \u001b[0;36m0.5\u001b[0m\u001b[0;34m\u001b[0m\u001b[0;34m\u001b[0m\u001b[0m\n\u001b[0m\u001b[1;32m     42\u001b[0m \u001b[0;34m\u001b[0m\u001b[0m\n\u001b[1;32m     43\u001b[0m     \u001b[0;32mreturn\u001b[0m \u001b[0mD\u001b[0m\u001b[0;34m\u001b[0m\u001b[0;34m\u001b[0m\u001b[0m\n",
      "\u001b[0;32m<__array_function__ internals>\u001b[0m in \u001b[0;36msum\u001b[0;34m(*args, **kwargs)\u001b[0m\n",
      "\u001b[0;31mKeyboardInterrupt\u001b[0m: "
     ]
    }
   ],
   "source": [
    "# This may take a long time to run depending on stride. \n",
    "# You may want to save the features for faster experimentation.\n",
    "\n",
    "bags_of_sift_stride = 5\n",
    "train_image_feats = sc.get_bags_of_sifts(train_image_arrays, vocab, bags_of_sift_stride)\n",
    "test_image_feats = sc.get_bags_of_sifts(test_image_arrays, vocab, bags_of_sift_stride)"
   ]
  },
  {
   "cell_type": "markdown",
   "metadata": {},
   "source": [
    "### Section 2b: Classify each test image by training and using the Nearest Neighbor classifier"
   ]
  },
  {
   "cell_type": "code",
   "execution_count": null,
   "metadata": {
    "pycharm": {
     "is_executing": true
    }
   },
   "outputs": [],
   "source": [
    "print('Using NEAREST NEIGHBOR classifier to predict test set categories')\n",
    "predicted_categories = sc.nearest_neighbor_classify(train_image_feats, train_labels, test_image_feats, k = 3)"
   ]
  },
  {
   "cell_type": "markdown",
   "metadata": {},
   "source": [
    "### Section 2c: Build a confusion matrix and score the recognition system"
   ]
  },
  {
   "cell_type": "code",
   "execution_count": null,
   "metadata": {
    "pycharm": {
     "is_executing": true
    },
    "scrolled": true
   },
   "outputs": [],
   "source": [
    "show_results(test_labels, categories, abbr_categories, predicted_categories, 'cm.png')"
   ]
  },
  {
   "cell_type": "markdown",
   "metadata": {},
   "source": [
    "## Conclusion\n",
    "We have seen that a basic classifier as simple as kNN is sufficient to get this classification task done with around 50% accuracy; you may choose to experiment with SVM classifier, which can boost your performance up to 60%, but that's not required for this project.\n",
    "\n",
    "This shows you how things are done in the pre-deep learning era, and the result is, uh, okay. These days with neural networks, 80% ~ 90% accuracies can be achieved with ease."
   ]
  }
 ],
 "metadata": {
  "kernelspec": {
   "display_name": "Python 3",
   "language": "python",
   "name": "python3"
  },
  "language_info": {
   "codemirror_mode": {
    "name": "ipython",
    "version": 3
   },
   "file_extension": ".py",
   "mimetype": "text/x-python",
   "name": "python",
   "nbconvert_exporter": "python",
   "pygments_lexer": "ipython3",
   "version": "3.6.10"
  },
  "pycharm": {
   "stem_cell": {
    "cell_type": "raw",
    "metadata": {
     "collapsed": false
    },
    "source": []
   }
  },
  "widgets": {
   "state": {},
   "version": "1.1.2"
  }
 },
 "nbformat": 4,
 "nbformat_minor": 2
}
